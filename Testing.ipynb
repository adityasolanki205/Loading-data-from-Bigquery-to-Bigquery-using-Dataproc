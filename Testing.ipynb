{
  "nbformat": 4,
  "nbformat_minor": 0,
  "metadata": {
    "colab": {
      "name": "spark.ipynb",
      "provenance": [],
      "collapsed_sections": []
    },
    "kernelspec": {
      "name": "python3",
      "display_name": "Python 3"
    },
    "language_info": {
      "name": "python"
    }
  },
  "cells": [
    {
      "cell_type": "code",
      "metadata": {
        "colab": {
          "base_uri": "https://localhost:8080/"
        },
        "id": "YcrkJgoe0p_l",
        "outputId": "44a70b93-d5d7-4033-cae3-fcd6945c3ed1"
      },
      "source": [
        "from google.colab import drive\n",
        "/drive.mount('/content/drive')"
      ],
      "execution_count": 1,
      "outputs": [
        {
          "output_type": "stream",
          "text": [
            "Mounted at /content/drive\n"
          ],
          "name": "stdout"
        }
      ]
    },
    {
      "cell_type": "code",
      "metadata": {
        "id": "NqjvFZLw0uyk"
      },
      "source": [
        "!apt-get install openjdk-8-jdk-headless -qq > /dev/null"
      ],
      "execution_count": 2,
      "outputs": []
    },
    {
      "cell_type": "code",
      "metadata": {
        "id": "wert7NFC1LC4"
      },
      "source": [
        "!wget -q https://downloads.apache.org/spark/spark-3.1.2/spark-3.1.2-bin-hadoop3.2.tgz"
      ],
      "execution_count": 3,
      "outputs": []
    },
    {
      "cell_type": "code",
      "metadata": {
        "id": "bRyXBNhJ1aNy"
      },
      "source": [
        "!tar xf spark-3.1.2-bin-hadoop3.2.tgz"
      ],
      "execution_count": 4,
      "outputs": []
    },
    {
      "cell_type": "code",
      "metadata": {
        "id": "RZ1fromt2hkX"
      },
      "source": [
        "!pip install -q findspark"
      ],
      "execution_count": 5,
      "outputs": []
    },
    {
      "cell_type": "code",
      "metadata": {
        "colab": {
          "base_uri": "https://localhost:8080/"
        },
        "id": "TmFD0thm5XfB",
        "outputId": "17c94661-9947-4cbd-c50a-87a8ec469102"
      },
      "source": [
        "!pip3 install pyspark"
      ],
      "execution_count": 13,
      "outputs": [
        {
          "output_type": "stream",
          "text": [
            "Collecting pyspark\n",
            "  Downloading pyspark-3.1.2.tar.gz (212.4 MB)\n",
            "\u001b[K     |████████████████████████████████| 212.4 MB 54 kB/s \n",
            "\u001b[?25hCollecting py4j==0.10.9\n",
            "  Using cached py4j-0.10.9-py2.py3-none-any.whl (198 kB)\n",
            "Building wheels for collected packages: pyspark\n",
            "  Building wheel for pyspark (setup.py) ... \u001b[?25l\u001b[?25hdone\n",
            "  Created wheel for pyspark: filename=pyspark-3.1.2-py2.py3-none-any.whl size=212880768 sha256=5f3a24127737eda893f5674027c7f2b0d7e225199bc8bc9eb963be877e563585\n",
            "  Stored in directory: /root/.cache/pip/wheels/a5/0a/c1/9561f6fecb759579a7d863dcd846daaa95f598744e71b02c77\n",
            "Successfully built pyspark\n",
            "Installing collected packages: py4j, pyspark\n",
            "Successfully installed py4j-0.10.9 pyspark-3.1.2\n"
          ],
          "name": "stdout"
        }
      ]
    },
    {
      "cell_type": "code",
      "metadata": {
        "id": "0GOviF7g2q8o"
      },
      "source": [
        "import os\n",
        "os.environ[\"JAVA_HOME\"] = \"/usr/lib/jvm/java-8-openjdk-amd64\"\n",
        "os.environ[\"SPARK_HOME\"] = \"/content/spark-3.1.2-bin-hadoop3.2\""
      ],
      "execution_count": 6,
      "outputs": []
    },
    {
      "cell_type": "code",
      "metadata": {
        "id": "s0ve8liE5YO4"
      },
      "source": [
        "import findspark\n",
        "import pyspark\n",
        "from pyspark.sql import SparkSession\n",
        "import pyspark.sql.functions as fn\n",
        "from pyspark.sql import functions as sf\n",
        "\n",
        "findspark.init()"
      ],
      "execution_count": 15,
      "outputs": []
    },
    {
      "cell_type": "code",
      "metadata": {
        "id": "bcZRZs2elj-T"
      },
      "source": [
        "'''from pyspark import SparkContext\n",
        "sc = SparkContext()'''"
      ],
      "execution_count": null,
      "outputs": []
    },
    {
      "cell_type": "code",
      "metadata": {
        "id": "I5EFtzTA3X6J"
      },
      "source": [
        "spark = SparkSession.builder\\\n",
        "        .master(\"local\")\\\n",
        "        .appName(\"Colab\")\\\n",
        "        .config('spark.ui.port', '4050')\\\n",
        "        .getOrCreate()"
      ],
      "execution_count": 16,
      "outputs": []
    },
    {
      "cell_type": "code",
      "metadata": {
        "colab": {
          "base_uri": "https://localhost:8080/",
          "height": 219
        },
        "id": "yLi7Y9wO3mTj",
        "outputId": "09ba1c5f-f1b7-4937-930b-f127292435b1"
      },
      "source": [
        "spark"
      ],
      "execution_count": 17,
      "outputs": [
        {
          "output_type": "execute_result",
          "data": {
            "text/html": [
              "\n",
              "            <div>\n",
              "                <p><b>SparkSession - in-memory</b></p>\n",
              "                \n",
              "        <div>\n",
              "            <p><b>SparkContext</b></p>\n",
              "\n",
              "            <p><a href=\"http://73f705bdb5c4:4050\">Spark UI</a></p>\n",
              "\n",
              "            <dl>\n",
              "              <dt>Version</dt>\n",
              "                <dd><code>v3.1.2</code></dd>\n",
              "              <dt>Master</dt>\n",
              "                <dd><code>local</code></dd>\n",
              "              <dt>AppName</dt>\n",
              "                <dd><code>Colab</code></dd>\n",
              "            </dl>\n",
              "        </div>\n",
              "        \n",
              "            </div>\n",
              "        "
            ],
            "text/plain": [
              "<pyspark.sql.session.SparkSession at 0x7f23879b2890>"
            ]
          },
          "metadata": {
            "tags": []
          },
          "execution_count": 17
        }
      ]
    },
    {
      "cell_type": "code",
      "metadata": {
        "id": "aTQBTByCtqCC"
      },
      "source": [
        "df = spark.read.csv(\"/content/drive/MyDrive/german_data.csv\", header=True, inferSchema=True)"
      ],
      "execution_count": 18,
      "outputs": []
    },
    {
      "cell_type": "code",
      "metadata": {
        "colab": {
          "base_uri": "https://localhost:8080/"
        },
        "id": "dPgvVQA-45em",
        "outputId": "12ce1cbe-a6ff-43b3-a800-cd05fc196eda"
      },
      "source": [
        "df.show()"
      ],
      "execution_count": 19,
      "outputs": [
        {
          "output_type": "stream",
          "text": [
            "+----------------+--------------+--------------+-------+-------------+------+-------------------+----------------+---------------+-------+--------------------+--------+---+-----------------+-------+-----------------+----+-------------+---------+--------------+--------------+\n",
            "|Existing_account|Duration_month|Credit_history|Purpose|Credit_amount|Saving|Employment_duration|Installment_rate|Personal_status|Debtors|Residential_Duration|Property|Age|Installment_plans|Housing|Number_of_credits| Job|Liable_People|Telephone|Foreign_worker|Classification|\n",
            "+----------------+--------------+--------------+-------+-------------+------+-------------------+----------------+---------------+-------+--------------------+--------+---+-----------------+-------+-----------------+----+-------------+---------+--------------+--------------+\n",
            "|             B11|             6|           A34|    A43|         1169|   A65|                A75|               4|            A93|   A101|                   4|    A121| 67|             A143|   A152|                2|A173|            1|     A192|          A201|             1|\n",
            "|             G12|            48|           A32|    A43|         5951|   A61|                A73|               2|            A92|   A101|                   2|    A121| 22|             A143|   A152|                1|A173|            1|     A191|          A201|             1|\n",
            "|             C14|            12|           A34|   NULL|         2096|   A61|                A74|               2|            A93|   A101|                   3|    A121| 49|             A143|   A152|                1|A172|            2|     A191|          A201|             1|\n",
            "|             D11|            42|           A32|    A42|         7882|   A61|                A74|               2|            A93|   A103|                   4|    A122| 45|             A143|   A153|                1|A173|            2|     A191|          A201|             1|\n",
            "|             E11|            24|           A33|    A40|         4870|   A61|                A73|               3|            A93|   A101|                   4|    A124| 53|             A143|   A153|                2|A173|            2|     A191|          A201|             2|\n",
            "|             A14|            36|           A32|    A46|         9055|   A65|                A73|               2|            A93|   A101|                   4|    A124| 35|             A143|   A153|                1|A172|            2|     A192|          A201|             1|\n",
            "|             A14|            24|           A32|    A42|         2835|   A63|                A75|               3|            A93|   A101|                   4|    A122| 53|             A143|   A152|                1|A173|            1|     A191|          A201|             1|\n",
            "|             G12|            36|           A32|    A41|         6948|   A61|                A73|               2|            A93|   A101|                   2|    A123| 35|             A143|   A151|                1|A174|            1|     A192|          A201|             1|\n",
            "|             A14|            12|           A32|    A43|         3059|   A64|                A74|               2|            A91|   A101|                   4|    A121| 61|             A143|   A152|                1|A172|            1|     A191|          A201|             1|\n",
            "|             F12|            30|           A34|    A40|         5234|   A61|                A71|               4|            A94|   A101|                   2|    A123| 28|             A143|   A152|                2|A174|            1|     A191|          A201|             2|\n",
            "|             A12|            12|           A32|    A40|         1295|   A61|                A72|               3|            A92|   A101|                   1|    A123| 25|             A143|   A151|                1|A173|            1|     A191|          A201|             2|\n",
            "|             A11|            48|           A32|   NULL|         4308|   A61|                A72|               3|            A92|   A101|                   4|    NULL| 24|             A143|   A151|                1|A173|            1|     A191|          A201|             2|\n",
            "|             A12|            12|           A32|    A43|         1567|   A61|                A73|               1|            A92|   A101|                   1|    A123| 22|             A143|   A152|                1|A173|            1|     A192|          A201|             1|\n",
            "|             A12|            24|           A34|    A40|         1199|   A61|                A75|               4|            A93|   A101|                   4|    A123| 60|             A143|   A152|                2|A172|            1|     A191|          A201|             2|\n",
            "|             H11|            15|           A32|    A40|         1403|   A61|                A73|               2|           NULL|   A101|                   4|    A123| 28|             A143|   A151|                1|A173|            1|     A191|          A201|             1|\n",
            "|             I11|            24|           A32|    A43|         1282|   A62|                A73|               4|            A92|   A101|                   2|    A123| 32|             A143|   A152|                1|A172|            1|     A191|          A201|             1|\n",
            "|             J14|            24|           A34|    A43|         2424|   A65|                A75|               4|            A93|   A101|                   4|    A122| 53|             A143|   A152|                2|A173|            1|     A191|          A201|             1|\n",
            "|             A11|            30|           A30|    A49|         8072|   A65|                A72|               2|            A93|   A101|                   3|    A123| 25|             A141|   A152|                3|A173|            1|     A191|          A201|             1|\n",
            "|             A12|            24|           A32|    A41|        12579|   A61|                A75|               4|            A92|   A101|                   2|    A124| 44|             A143|   A153|                1|A174|            1|     A192|          A201|             1|\n",
            "|             J12|            24|           A32|    A43|         3430|   A63|                A75|               3|            A93|   A101|                   2|    A123| 31|             A143|   A152|                1|A173|            2|     A192|          A201|             1|\n",
            "+----------------+--------------+--------------+-------+-------------+------+-------------------+----------------+---------------+-------+--------------------+--------+---+-----------------+-------+-----------------+----+-------------+---------+--------------+--------------+\n",
            "only showing top 20 rows\n",
            "\n"
          ],
          "name": "stdout"
        }
      ]
    },
    {
      "cell_type": "code",
      "metadata": {
        "id": "Hz-F-_GO5M_3"
      },
      "source": [
        "df = df.filter((df.Purpose != 'NULL') & (df.Existing_account != 'NULL') & (df.Property !=  'NULL') & (df.Personal_status != 'NULL') & (df.Existing_account != 'NULL')  & (df.Credit_amount != 'NULL' ) & (df.Installment_plans != 'NULL'))"
      ],
      "execution_count": 20,
      "outputs": []
    },
    {
      "cell_type": "code",
      "metadata": {
        "colab": {
          "base_uri": "https://localhost:8080/"
        },
        "id": "_PyG9Ug9FXix",
        "outputId": "c2f94e27-23e5-4986-a8ab-e3d0a6532aad"
      },
      "source": [
        "df.show()"
      ],
      "execution_count": 21,
      "outputs": [
        {
          "output_type": "stream",
          "text": [
            "+----------------+--------------+--------------+-------+-------------+------+-------------------+----------------+---------------+-------+--------------------+--------+---+-----------------+-------+-----------------+----+-------------+---------+--------------+--------------+\n",
            "|Existing_account|Duration_month|Credit_history|Purpose|Credit_amount|Saving|Employment_duration|Installment_rate|Personal_status|Debtors|Residential_Duration|Property|Age|Installment_plans|Housing|Number_of_credits| Job|Liable_People|Telephone|Foreign_worker|Classification|\n",
            "+----------------+--------------+--------------+-------+-------------+------+-------------------+----------------+---------------+-------+--------------------+--------+---+-----------------+-------+-----------------+----+-------------+---------+--------------+--------------+\n",
            "|             B11|             6|           A34|    A43|         1169|   A65|                A75|               4|            A93|   A101|                   4|    A121| 67|             A143|   A152|                2|A173|            1|     A192|          A201|             1|\n",
            "|             G12|            48|           A32|    A43|         5951|   A61|                A73|               2|            A92|   A101|                   2|    A121| 22|             A143|   A152|                1|A173|            1|     A191|          A201|             1|\n",
            "|             D11|            42|           A32|    A42|         7882|   A61|                A74|               2|            A93|   A103|                   4|    A122| 45|             A143|   A153|                1|A173|            2|     A191|          A201|             1|\n",
            "|             E11|            24|           A33|    A40|         4870|   A61|                A73|               3|            A93|   A101|                   4|    A124| 53|             A143|   A153|                2|A173|            2|     A191|          A201|             2|\n",
            "|             A14|            36|           A32|    A46|         9055|   A65|                A73|               2|            A93|   A101|                   4|    A124| 35|             A143|   A153|                1|A172|            2|     A192|          A201|             1|\n",
            "|             A14|            24|           A32|    A42|         2835|   A63|                A75|               3|            A93|   A101|                   4|    A122| 53|             A143|   A152|                1|A173|            1|     A191|          A201|             1|\n",
            "|             G12|            36|           A32|    A41|         6948|   A61|                A73|               2|            A93|   A101|                   2|    A123| 35|             A143|   A151|                1|A174|            1|     A192|          A201|             1|\n",
            "|             A14|            12|           A32|    A43|         3059|   A64|                A74|               2|            A91|   A101|                   4|    A121| 61|             A143|   A152|                1|A172|            1|     A191|          A201|             1|\n",
            "|             F12|            30|           A34|    A40|         5234|   A61|                A71|               4|            A94|   A101|                   2|    A123| 28|             A143|   A152|                2|A174|            1|     A191|          A201|             2|\n",
            "|             A12|            12|           A32|    A40|         1295|   A61|                A72|               3|            A92|   A101|                   1|    A123| 25|             A143|   A151|                1|A173|            1|     A191|          A201|             2|\n",
            "|             A12|            12|           A32|    A43|         1567|   A61|                A73|               1|            A92|   A101|                   1|    A123| 22|             A143|   A152|                1|A173|            1|     A192|          A201|             1|\n",
            "|             A12|            24|           A34|    A40|         1199|   A61|                A75|               4|            A93|   A101|                   4|    A123| 60|             A143|   A152|                2|A172|            1|     A191|          A201|             2|\n",
            "|             I11|            24|           A32|    A43|         1282|   A62|                A73|               4|            A92|   A101|                   2|    A123| 32|             A143|   A152|                1|A172|            1|     A191|          A201|             1|\n",
            "|             J14|            24|           A34|    A43|         2424|   A65|                A75|               4|            A93|   A101|                   4|    A122| 53|             A143|   A152|                2|A173|            1|     A191|          A201|             1|\n",
            "|             A11|            30|           A30|    A49|         8072|   A65|                A72|               2|            A93|   A101|                   3|    A123| 25|             A141|   A152|                3|A173|            1|     A191|          A201|             1|\n",
            "|             A12|            24|           A32|    A41|        12579|   A61|                A75|               4|            A92|   A101|                   2|    A124| 44|             A143|   A153|                1|A174|            1|     A192|          A201|             1|\n",
            "|             J12|            24|           A32|    A43|         3430|   A63|                A75|               3|            A93|   A101|                   2|    A123| 31|             A143|   A152|                1|A173|            2|     A192|          A201|             1|\n",
            "|             K14|             9|           A34|    A40|         2134|   A61|                A73|               4|            A93|   A101|                   4|    A123| 48|             A143|   A152|                3|A173|            1|     A192|          A201|             1|\n",
            "|             L11|             6|           A32|    A43|         2647|   A63|                A73|               2|            A93|   A101|                   3|    A121| 44|             A143|   A151|                1|A173|            2|     A191|          A201|             1|\n",
            "|             A11|            10|           A34|    A40|         2241|   A61|                A72|               1|            A93|   A101|                   3|    A121| 48|             A143|   A151|                2|A172|            2|     A191|          A202|             1|\n",
            "+----------------+--------------+--------------+-------+-------------+------+-------------------+----------------+---------------+-------+--------------------+--------+---+-----------------+-------+-----------------+----+-------------+---------+--------------+--------------+\n",
            "only showing top 20 rows\n",
            "\n"
          ],
          "name": "stdout"
        }
      ]
    },
    {
      "cell_type": "code",
      "metadata": {
        "id": "ClLFFANPFXfN"
      },
      "source": [
        "df = df.withColumn(\"Credit_amount\", df['Credit_amount'].cast('float'))"
      ],
      "execution_count": 22,
      "outputs": []
    },
    {
      "cell_type": "code",
      "metadata": {
        "colab": {
          "base_uri": "https://localhost:8080/"
        },
        "id": "mIJ18Ywqrtt3",
        "outputId": "0b75fd18-1c41-49d9-d539-1375c64b3570"
      },
      "source": [
        "df.show()"
      ],
      "execution_count": 23,
      "outputs": [
        {
          "output_type": "stream",
          "text": [
            "+----------------+--------------+--------------+-------+-------------+------+-------------------+----------------+---------------+-------+--------------------+--------+---+-----------------+-------+-----------------+----+-------------+---------+--------------+--------------+\n",
            "|Existing_account|Duration_month|Credit_history|Purpose|Credit_amount|Saving|Employment_duration|Installment_rate|Personal_status|Debtors|Residential_Duration|Property|Age|Installment_plans|Housing|Number_of_credits| Job|Liable_People|Telephone|Foreign_worker|Classification|\n",
            "+----------------+--------------+--------------+-------+-------------+------+-------------------+----------------+---------------+-------+--------------------+--------+---+-----------------+-------+-----------------+----+-------------+---------+--------------+--------------+\n",
            "|             B11|             6|           A34|    A43|       1169.0|   A65|                A75|               4|            A93|   A101|                   4|    A121| 67|             A143|   A152|                2|A173|            1|     A192|          A201|             1|\n",
            "|             G12|            48|           A32|    A43|       5951.0|   A61|                A73|               2|            A92|   A101|                   2|    A121| 22|             A143|   A152|                1|A173|            1|     A191|          A201|             1|\n",
            "|             D11|            42|           A32|    A42|       7882.0|   A61|                A74|               2|            A93|   A103|                   4|    A122| 45|             A143|   A153|                1|A173|            2|     A191|          A201|             1|\n",
            "|             E11|            24|           A33|    A40|       4870.0|   A61|                A73|               3|            A93|   A101|                   4|    A124| 53|             A143|   A153|                2|A173|            2|     A191|          A201|             2|\n",
            "|             A14|            36|           A32|    A46|       9055.0|   A65|                A73|               2|            A93|   A101|                   4|    A124| 35|             A143|   A153|                1|A172|            2|     A192|          A201|             1|\n",
            "|             A14|            24|           A32|    A42|       2835.0|   A63|                A75|               3|            A93|   A101|                   4|    A122| 53|             A143|   A152|                1|A173|            1|     A191|          A201|             1|\n",
            "|             G12|            36|           A32|    A41|       6948.0|   A61|                A73|               2|            A93|   A101|                   2|    A123| 35|             A143|   A151|                1|A174|            1|     A192|          A201|             1|\n",
            "|             A14|            12|           A32|    A43|       3059.0|   A64|                A74|               2|            A91|   A101|                   4|    A121| 61|             A143|   A152|                1|A172|            1|     A191|          A201|             1|\n",
            "|             F12|            30|           A34|    A40|       5234.0|   A61|                A71|               4|            A94|   A101|                   2|    A123| 28|             A143|   A152|                2|A174|            1|     A191|          A201|             2|\n",
            "|             A12|            12|           A32|    A40|       1295.0|   A61|                A72|               3|            A92|   A101|                   1|    A123| 25|             A143|   A151|                1|A173|            1|     A191|          A201|             2|\n",
            "|             A12|            12|           A32|    A43|       1567.0|   A61|                A73|               1|            A92|   A101|                   1|    A123| 22|             A143|   A152|                1|A173|            1|     A192|          A201|             1|\n",
            "|             A12|            24|           A34|    A40|       1199.0|   A61|                A75|               4|            A93|   A101|                   4|    A123| 60|             A143|   A152|                2|A172|            1|     A191|          A201|             2|\n",
            "|             I11|            24|           A32|    A43|       1282.0|   A62|                A73|               4|            A92|   A101|                   2|    A123| 32|             A143|   A152|                1|A172|            1|     A191|          A201|             1|\n",
            "|             J14|            24|           A34|    A43|       2424.0|   A65|                A75|               4|            A93|   A101|                   4|    A122| 53|             A143|   A152|                2|A173|            1|     A191|          A201|             1|\n",
            "|             A11|            30|           A30|    A49|       8072.0|   A65|                A72|               2|            A93|   A101|                   3|    A123| 25|             A141|   A152|                3|A173|            1|     A191|          A201|             1|\n",
            "|             A12|            24|           A32|    A41|      12579.0|   A61|                A75|               4|            A92|   A101|                   2|    A124| 44|             A143|   A153|                1|A174|            1|     A192|          A201|             1|\n",
            "|             J12|            24|           A32|    A43|       3430.0|   A63|                A75|               3|            A93|   A101|                   2|    A123| 31|             A143|   A152|                1|A173|            2|     A192|          A201|             1|\n",
            "|             K14|             9|           A34|    A40|       2134.0|   A61|                A73|               4|            A93|   A101|                   4|    A123| 48|             A143|   A152|                3|A173|            1|     A192|          A201|             1|\n",
            "|             L11|             6|           A32|    A43|       2647.0|   A63|                A73|               2|            A93|   A101|                   3|    A121| 44|             A143|   A151|                1|A173|            2|     A191|          A201|             1|\n",
            "|             A11|            10|           A34|    A40|       2241.0|   A61|                A72|               1|            A93|   A101|                   3|    A121| 48|             A143|   A151|                2|A172|            2|     A191|          A202|             1|\n",
            "+----------------+--------------+--------------+-------+-------------+------+-------------------+----------------+---------------+-------+--------------------+--------+---+-----------------+-------+-----------------+----+-------------+---------+--------------+--------------+\n",
            "only showing top 20 rows\n",
            "\n"
          ],
          "name": "stdout"
        }
      ]
    },
    {
      "cell_type": "code",
      "metadata": {
        "colab": {
          "base_uri": "https://localhost:8080/"
        },
        "id": "bS7vfDSjlph9",
        "outputId": "31829e44-3c62-4ca0-e762-c719ba75da06"
      },
      "source": [
        "split_col= pyspark.sql.functions.split(df['Existing_account'], '')\n",
        "df = df.withColumn('Month', split_col.getItem(0))\n",
        "df = df.withColumn('day1', split_col.getItem(1))\n",
        "df = df.withColumn('day2', split_col.getItem(2))\n",
        "\n",
        "df = df.withColumn('Days', sf.concat(sf.col('day1'),sf.col('day2')))\n",
        "df = df.drop('day1')\n",
        "df = df.drop('day2')\n",
        "df.show()"
      ],
      "execution_count": 24,
      "outputs": [
        {
          "output_type": "stream",
          "text": [
            "+----------------+--------------+--------------+-------+-------------+------+-------------------+----------------+---------------+-------+--------------------+--------+---+-----------------+-------+-----------------+----+-------------+---------+--------------+--------------+-----+----+\n",
            "|Existing_account|Duration_month|Credit_history|Purpose|Credit_amount|Saving|Employment_duration|Installment_rate|Personal_status|Debtors|Residential_Duration|Property|Age|Installment_plans|Housing|Number_of_credits| Job|Liable_People|Telephone|Foreign_worker|Classification|Month|Days|\n",
            "+----------------+--------------+--------------+-------+-------------+------+-------------------+----------------+---------------+-------+--------------------+--------+---+-----------------+-------+-----------------+----+-------------+---------+--------------+--------------+-----+----+\n",
            "|             B11|             6|           A34|    A43|       1169.0|   A65|                A75|               4|            A93|   A101|                   4|    A121| 67|             A143|   A152|                2|A173|            1|     A192|          A201|             1|    B|  11|\n",
            "|             G12|            48|           A32|    A43|       5951.0|   A61|                A73|               2|            A92|   A101|                   2|    A121| 22|             A143|   A152|                1|A173|            1|     A191|          A201|             1|    G|  12|\n",
            "|             D11|            42|           A32|    A42|       7882.0|   A61|                A74|               2|            A93|   A103|                   4|    A122| 45|             A143|   A153|                1|A173|            2|     A191|          A201|             1|    D|  11|\n",
            "|             E11|            24|           A33|    A40|       4870.0|   A61|                A73|               3|            A93|   A101|                   4|    A124| 53|             A143|   A153|                2|A173|            2|     A191|          A201|             2|    E|  11|\n",
            "|             A14|            36|           A32|    A46|       9055.0|   A65|                A73|               2|            A93|   A101|                   4|    A124| 35|             A143|   A153|                1|A172|            2|     A192|          A201|             1|    A|  14|\n",
            "|             A14|            24|           A32|    A42|       2835.0|   A63|                A75|               3|            A93|   A101|                   4|    A122| 53|             A143|   A152|                1|A173|            1|     A191|          A201|             1|    A|  14|\n",
            "|             G12|            36|           A32|    A41|       6948.0|   A61|                A73|               2|            A93|   A101|                   2|    A123| 35|             A143|   A151|                1|A174|            1|     A192|          A201|             1|    G|  12|\n",
            "|             A14|            12|           A32|    A43|       3059.0|   A64|                A74|               2|            A91|   A101|                   4|    A121| 61|             A143|   A152|                1|A172|            1|     A191|          A201|             1|    A|  14|\n",
            "|             F12|            30|           A34|    A40|       5234.0|   A61|                A71|               4|            A94|   A101|                   2|    A123| 28|             A143|   A152|                2|A174|            1|     A191|          A201|             2|    F|  12|\n",
            "|             A12|            12|           A32|    A40|       1295.0|   A61|                A72|               3|            A92|   A101|                   1|    A123| 25|             A143|   A151|                1|A173|            1|     A191|          A201|             2|    A|  12|\n",
            "|             A12|            12|           A32|    A43|       1567.0|   A61|                A73|               1|            A92|   A101|                   1|    A123| 22|             A143|   A152|                1|A173|            1|     A192|          A201|             1|    A|  12|\n",
            "|             A12|            24|           A34|    A40|       1199.0|   A61|                A75|               4|            A93|   A101|                   4|    A123| 60|             A143|   A152|                2|A172|            1|     A191|          A201|             2|    A|  12|\n",
            "|             I11|            24|           A32|    A43|       1282.0|   A62|                A73|               4|            A92|   A101|                   2|    A123| 32|             A143|   A152|                1|A172|            1|     A191|          A201|             1|    I|  11|\n",
            "|             J14|            24|           A34|    A43|       2424.0|   A65|                A75|               4|            A93|   A101|                   4|    A122| 53|             A143|   A152|                2|A173|            1|     A191|          A201|             1|    J|  14|\n",
            "|             A11|            30|           A30|    A49|       8072.0|   A65|                A72|               2|            A93|   A101|                   3|    A123| 25|             A141|   A152|                3|A173|            1|     A191|          A201|             1|    A|  11|\n",
            "|             A12|            24|           A32|    A41|      12579.0|   A61|                A75|               4|            A92|   A101|                   2|    A124| 44|             A143|   A153|                1|A174|            1|     A192|          A201|             1|    A|  12|\n",
            "|             J12|            24|           A32|    A43|       3430.0|   A63|                A75|               3|            A93|   A101|                   2|    A123| 31|             A143|   A152|                1|A173|            2|     A192|          A201|             1|    J|  12|\n",
            "|             K14|             9|           A34|    A40|       2134.0|   A61|                A73|               4|            A93|   A101|                   4|    A123| 48|             A143|   A152|                3|A173|            1|     A192|          A201|             1|    K|  14|\n",
            "|             L11|             6|           A32|    A43|       2647.0|   A63|                A73|               2|            A93|   A101|                   3|    A121| 44|             A143|   A151|                1|A173|            2|     A191|          A201|             1|    L|  11|\n",
            "|             A11|            10|           A34|    A40|       2241.0|   A61|                A72|               1|            A93|   A101|                   3|    A121| 48|             A143|   A151|                2|A172|            2|     A191|          A202|             1|    A|  11|\n",
            "+----------------+--------------+--------------+-------+-------------+------+-------------------+----------------+---------------+-------+--------------------+--------+---+-----------------+-------+-----------------+----+-------------+---------+--------------+--------------+-----+----+\n",
            "only showing top 20 rows\n",
            "\n"
          ],
          "name": "stdout"
        }
      ]
    },
    {
      "cell_type": "code",
      "metadata": {
        "id": "a4sHPMZgnvDK"
      },
      "source": [
        "Month_Dict = {\n",
        "    'A':'January',\n",
        "    'B':'February',\n",
        "    'C':'March',\n",
        "    'D':'April',\n",
        "    'E':'May',\n",
        "    'F':'June',\n",
        "    'G':'July',\n",
        "    'H':'August',\n",
        "    'I':'September',\n",
        "    'J':'October',\n",
        "    'K':'November',\n",
        "    'L':'December'\n",
        "    }\n",
        "df = df.replace(Month_Dict,subset=['Month'])"
      ],
      "execution_count": 25,
      "outputs": []
    },
    {
      "cell_type": "code",
      "metadata": {
        "colab": {
          "base_uri": "https://localhost:8080/"
        },
        "id": "AN4zvs6xr6HC",
        "outputId": "f41103a0-764a-46af-9c72-867681ed4f94"
      },
      "source": [
        "df.show()"
      ],
      "execution_count": 26,
      "outputs": [
        {
          "output_type": "stream",
          "text": [
            "+----------------+--------------+--------------+-------+-------------+------+-------------------+----------------+---------------+-------+--------------------+--------+---+-----------------+-------+-----------------+----+-------------+---------+--------------+--------------+---------+----+\n",
            "|Existing_account|Duration_month|Credit_history|Purpose|Credit_amount|Saving|Employment_duration|Installment_rate|Personal_status|Debtors|Residential_Duration|Property|Age|Installment_plans|Housing|Number_of_credits| Job|Liable_People|Telephone|Foreign_worker|Classification|    Month|Days|\n",
            "+----------------+--------------+--------------+-------+-------------+------+-------------------+----------------+---------------+-------+--------------------+--------+---+-----------------+-------+-----------------+----+-------------+---------+--------------+--------------+---------+----+\n",
            "|             B11|             6|           A34|    A43|       1169.0|   A65|                A75|               4|            A93|   A101|                   4|    A121| 67|             A143|   A152|                2|A173|            1|     A192|          A201|             1| February|  11|\n",
            "|             G12|            48|           A32|    A43|       5951.0|   A61|                A73|               2|            A92|   A101|                   2|    A121| 22|             A143|   A152|                1|A173|            1|     A191|          A201|             1|     July|  12|\n",
            "|             D11|            42|           A32|    A42|       7882.0|   A61|                A74|               2|            A93|   A103|                   4|    A122| 45|             A143|   A153|                1|A173|            2|     A191|          A201|             1|    April|  11|\n",
            "|             E11|            24|           A33|    A40|       4870.0|   A61|                A73|               3|            A93|   A101|                   4|    A124| 53|             A143|   A153|                2|A173|            2|     A191|          A201|             2|      May|  11|\n",
            "|             A14|            36|           A32|    A46|       9055.0|   A65|                A73|               2|            A93|   A101|                   4|    A124| 35|             A143|   A153|                1|A172|            2|     A192|          A201|             1|  January|  14|\n",
            "|             A14|            24|           A32|    A42|       2835.0|   A63|                A75|               3|            A93|   A101|                   4|    A122| 53|             A143|   A152|                1|A173|            1|     A191|          A201|             1|  January|  14|\n",
            "|             G12|            36|           A32|    A41|       6948.0|   A61|                A73|               2|            A93|   A101|                   2|    A123| 35|             A143|   A151|                1|A174|            1|     A192|          A201|             1|     July|  12|\n",
            "|             A14|            12|           A32|    A43|       3059.0|   A64|                A74|               2|            A91|   A101|                   4|    A121| 61|             A143|   A152|                1|A172|            1|     A191|          A201|             1|  January|  14|\n",
            "|             F12|            30|           A34|    A40|       5234.0|   A61|                A71|               4|            A94|   A101|                   2|    A123| 28|             A143|   A152|                2|A174|            1|     A191|          A201|             2|     June|  12|\n",
            "|             A12|            12|           A32|    A40|       1295.0|   A61|                A72|               3|            A92|   A101|                   1|    A123| 25|             A143|   A151|                1|A173|            1|     A191|          A201|             2|  January|  12|\n",
            "|             A12|            12|           A32|    A43|       1567.0|   A61|                A73|               1|            A92|   A101|                   1|    A123| 22|             A143|   A152|                1|A173|            1|     A192|          A201|             1|  January|  12|\n",
            "|             A12|            24|           A34|    A40|       1199.0|   A61|                A75|               4|            A93|   A101|                   4|    A123| 60|             A143|   A152|                2|A172|            1|     A191|          A201|             2|  January|  12|\n",
            "|             I11|            24|           A32|    A43|       1282.0|   A62|                A73|               4|            A92|   A101|                   2|    A123| 32|             A143|   A152|                1|A172|            1|     A191|          A201|             1|September|  11|\n",
            "|             J14|            24|           A34|    A43|       2424.0|   A65|                A75|               4|            A93|   A101|                   4|    A122| 53|             A143|   A152|                2|A173|            1|     A191|          A201|             1|  October|  14|\n",
            "|             A11|            30|           A30|    A49|       8072.0|   A65|                A72|               2|            A93|   A101|                   3|    A123| 25|             A141|   A152|                3|A173|            1|     A191|          A201|             1|  January|  11|\n",
            "|             A12|            24|           A32|    A41|      12579.0|   A61|                A75|               4|            A92|   A101|                   2|    A124| 44|             A143|   A153|                1|A174|            1|     A192|          A201|             1|  January|  12|\n",
            "|             J12|            24|           A32|    A43|       3430.0|   A63|                A75|               3|            A93|   A101|                   2|    A123| 31|             A143|   A152|                1|A173|            2|     A192|          A201|             1|  October|  12|\n",
            "|             K14|             9|           A34|    A40|       2134.0|   A61|                A73|               4|            A93|   A101|                   4|    A123| 48|             A143|   A152|                3|A173|            1|     A192|          A201|             1| November|  14|\n",
            "|             L11|             6|           A32|    A43|       2647.0|   A63|                A73|               2|            A93|   A101|                   3|    A121| 44|             A143|   A151|                1|A173|            2|     A191|          A201|             1| December|  11|\n",
            "|             A11|            10|           A34|    A40|       2241.0|   A61|                A72|               1|            A93|   A101|                   3|    A121| 48|             A143|   A151|                2|A172|            2|     A191|          A202|             1|  January|  11|\n",
            "+----------------+--------------+--------------+-------+-------------+------+-------------------+----------------+---------------+-------+--------------------+--------+---+-----------------+-------+-----------------+----+-------------+---------+--------------+--------------+---------+----+\n",
            "only showing top 20 rows\n",
            "\n"
          ],
          "name": "stdout"
        }
      ]
    },
    {
      "cell_type": "code",
      "metadata": {
        "colab": {
          "base_uri": "https://localhost:8080/"
        },
        "id": "qtEhEhZJpL_j",
        "outputId": "6d74a0eb-411f-4f13-b2a1-bc4b418186b7"
      },
      "source": [
        "split_purpose= pyspark.sql.functions.split(df['Purpose'], '')\n",
        "df = df.withColumn('File_month', split_purpose.getItem(0))\n",
        "df = df.withColumn('ver1', split_purpose.getItem(1))\n",
        "df = df.withColumn('ver2', split_purpose.getItem(2))\n",
        "\n",
        "df=df.withColumn('Version', sf.concat(sf.col('ver1'),sf.col('ver2')))\n",
        "df = df.drop('ver1')\n",
        "df = df.drop('ver2')\n",
        "df.show()"
      ],
      "execution_count": 27,
      "outputs": [
        {
          "output_type": "stream",
          "text": [
            "+----------------+--------------+--------------+-------+-------------+------+-------------------+----------------+---------------+-------+--------------------+--------+---+-----------------+-------+-----------------+----+-------------+---------+--------------+--------------+---------+----+----------+-------+\n",
            "|Existing_account|Duration_month|Credit_history|Purpose|Credit_amount|Saving|Employment_duration|Installment_rate|Personal_status|Debtors|Residential_Duration|Property|Age|Installment_plans|Housing|Number_of_credits| Job|Liable_People|Telephone|Foreign_worker|Classification|    Month|Days|File_month|Version|\n",
            "+----------------+--------------+--------------+-------+-------------+------+-------------------+----------------+---------------+-------+--------------------+--------+---+-----------------+-------+-----------------+----+-------------+---------+--------------+--------------+---------+----+----------+-------+\n",
            "|             B11|             6|           A34|    A43|       1169.0|   A65|                A75|               4|            A93|   A101|                   4|    A121| 67|             A143|   A152|                2|A173|            1|     A192|          A201|             1| February|  11|         A|     43|\n",
            "|             G12|            48|           A32|    A43|       5951.0|   A61|                A73|               2|            A92|   A101|                   2|    A121| 22|             A143|   A152|                1|A173|            1|     A191|          A201|             1|     July|  12|         A|     43|\n",
            "|             D11|            42|           A32|    A42|       7882.0|   A61|                A74|               2|            A93|   A103|                   4|    A122| 45|             A143|   A153|                1|A173|            2|     A191|          A201|             1|    April|  11|         A|     42|\n",
            "|             E11|            24|           A33|    A40|       4870.0|   A61|                A73|               3|            A93|   A101|                   4|    A124| 53|             A143|   A153|                2|A173|            2|     A191|          A201|             2|      May|  11|         A|     40|\n",
            "|             A14|            36|           A32|    A46|       9055.0|   A65|                A73|               2|            A93|   A101|                   4|    A124| 35|             A143|   A153|                1|A172|            2|     A192|          A201|             1|  January|  14|         A|     46|\n",
            "|             A14|            24|           A32|    A42|       2835.0|   A63|                A75|               3|            A93|   A101|                   4|    A122| 53|             A143|   A152|                1|A173|            1|     A191|          A201|             1|  January|  14|         A|     42|\n",
            "|             G12|            36|           A32|    A41|       6948.0|   A61|                A73|               2|            A93|   A101|                   2|    A123| 35|             A143|   A151|                1|A174|            1|     A192|          A201|             1|     July|  12|         A|     41|\n",
            "|             A14|            12|           A32|    A43|       3059.0|   A64|                A74|               2|            A91|   A101|                   4|    A121| 61|             A143|   A152|                1|A172|            1|     A191|          A201|             1|  January|  14|         A|     43|\n",
            "|             F12|            30|           A34|    A40|       5234.0|   A61|                A71|               4|            A94|   A101|                   2|    A123| 28|             A143|   A152|                2|A174|            1|     A191|          A201|             2|     June|  12|         A|     40|\n",
            "|             A12|            12|           A32|    A40|       1295.0|   A61|                A72|               3|            A92|   A101|                   1|    A123| 25|             A143|   A151|                1|A173|            1|     A191|          A201|             2|  January|  12|         A|     40|\n",
            "|             A12|            12|           A32|    A43|       1567.0|   A61|                A73|               1|            A92|   A101|                   1|    A123| 22|             A143|   A152|                1|A173|            1|     A192|          A201|             1|  January|  12|         A|     43|\n",
            "|             A12|            24|           A34|    A40|       1199.0|   A61|                A75|               4|            A93|   A101|                   4|    A123| 60|             A143|   A152|                2|A172|            1|     A191|          A201|             2|  January|  12|         A|     40|\n",
            "|             I11|            24|           A32|    A43|       1282.0|   A62|                A73|               4|            A92|   A101|                   2|    A123| 32|             A143|   A152|                1|A172|            1|     A191|          A201|             1|September|  11|         A|     43|\n",
            "|             J14|            24|           A34|    A43|       2424.0|   A65|                A75|               4|            A93|   A101|                   4|    A122| 53|             A143|   A152|                2|A173|            1|     A191|          A201|             1|  October|  14|         A|     43|\n",
            "|             A11|            30|           A30|    A49|       8072.0|   A65|                A72|               2|            A93|   A101|                   3|    A123| 25|             A141|   A152|                3|A173|            1|     A191|          A201|             1|  January|  11|         A|     49|\n",
            "|             A12|            24|           A32|    A41|      12579.0|   A61|                A75|               4|            A92|   A101|                   2|    A124| 44|             A143|   A153|                1|A174|            1|     A192|          A201|             1|  January|  12|         A|     41|\n",
            "|             J12|            24|           A32|    A43|       3430.0|   A63|                A75|               3|            A93|   A101|                   2|    A123| 31|             A143|   A152|                1|A173|            2|     A192|          A201|             1|  October|  12|         A|     43|\n",
            "|             K14|             9|           A34|    A40|       2134.0|   A61|                A73|               4|            A93|   A101|                   4|    A123| 48|             A143|   A152|                3|A173|            1|     A192|          A201|             1| November|  14|         A|     40|\n",
            "|             L11|             6|           A32|    A43|       2647.0|   A63|                A73|               2|            A93|   A101|                   3|    A121| 44|             A143|   A151|                1|A173|            2|     A191|          A201|             1| December|  11|         A|     43|\n",
            "|             A11|            10|           A34|    A40|       2241.0|   A61|                A72|               1|            A93|   A101|                   3|    A121| 48|             A143|   A151|                2|A172|            2|     A191|          A202|             1|  January|  11|         A|     40|\n",
            "+----------------+--------------+--------------+-------+-------------+------+-------------------+----------------+---------------+-------+--------------------+--------+---+-----------------+-------+-----------------+----+-------------+---------+--------------+--------------+---------+----+----------+-------+\n",
            "only showing top 20 rows\n",
            "\n"
          ],
          "name": "stdout"
        }
      ]
    },
    {
      "cell_type": "code",
      "metadata": {
        "id": "_ULxTpEmFXco"
      },
      "source": [
        "df= df.replace(Month_Dict,subset=['File_month'])"
      ],
      "execution_count": 28,
      "outputs": []
    },
    {
      "cell_type": "code",
      "metadata": {
        "id": "rK6s_CM7FXVG",
        "colab": {
          "base_uri": "https://localhost:8080/"
        },
        "outputId": "4f3658be-2fd1-4075-8757-abf22a274b72"
      },
      "source": [
        "df.show()"
      ],
      "execution_count": 29,
      "outputs": [
        {
          "output_type": "stream",
          "text": [
            "+----------------+--------------+--------------+-------+-------------+------+-------------------+----------------+---------------+-------+--------------------+--------+---+-----------------+-------+-----------------+----+-------------+---------+--------------+--------------+---------+----+----------+-------+\n",
            "|Existing_account|Duration_month|Credit_history|Purpose|Credit_amount|Saving|Employment_duration|Installment_rate|Personal_status|Debtors|Residential_Duration|Property|Age|Installment_plans|Housing|Number_of_credits| Job|Liable_People|Telephone|Foreign_worker|Classification|    Month|Days|File_month|Version|\n",
            "+----------------+--------------+--------------+-------+-------------+------+-------------------+----------------+---------------+-------+--------------------+--------+---+-----------------+-------+-----------------+----+-------------+---------+--------------+--------------+---------+----+----------+-------+\n",
            "|             B11|             6|           A34|    A43|       1169.0|   A65|                A75|               4|            A93|   A101|                   4|    A121| 67|             A143|   A152|                2|A173|            1|     A192|          A201|             1| February|  11|   January|     43|\n",
            "|             G12|            48|           A32|    A43|       5951.0|   A61|                A73|               2|            A92|   A101|                   2|    A121| 22|             A143|   A152|                1|A173|            1|     A191|          A201|             1|     July|  12|   January|     43|\n",
            "|             D11|            42|           A32|    A42|       7882.0|   A61|                A74|               2|            A93|   A103|                   4|    A122| 45|             A143|   A153|                1|A173|            2|     A191|          A201|             1|    April|  11|   January|     42|\n",
            "|             E11|            24|           A33|    A40|       4870.0|   A61|                A73|               3|            A93|   A101|                   4|    A124| 53|             A143|   A153|                2|A173|            2|     A191|          A201|             2|      May|  11|   January|     40|\n",
            "|             A14|            36|           A32|    A46|       9055.0|   A65|                A73|               2|            A93|   A101|                   4|    A124| 35|             A143|   A153|                1|A172|            2|     A192|          A201|             1|  January|  14|   January|     46|\n",
            "|             A14|            24|           A32|    A42|       2835.0|   A63|                A75|               3|            A93|   A101|                   4|    A122| 53|             A143|   A152|                1|A173|            1|     A191|          A201|             1|  January|  14|   January|     42|\n",
            "|             G12|            36|           A32|    A41|       6948.0|   A61|                A73|               2|            A93|   A101|                   2|    A123| 35|             A143|   A151|                1|A174|            1|     A192|          A201|             1|     July|  12|   January|     41|\n",
            "|             A14|            12|           A32|    A43|       3059.0|   A64|                A74|               2|            A91|   A101|                   4|    A121| 61|             A143|   A152|                1|A172|            1|     A191|          A201|             1|  January|  14|   January|     43|\n",
            "|             F12|            30|           A34|    A40|       5234.0|   A61|                A71|               4|            A94|   A101|                   2|    A123| 28|             A143|   A152|                2|A174|            1|     A191|          A201|             2|     June|  12|   January|     40|\n",
            "|             A12|            12|           A32|    A40|       1295.0|   A61|                A72|               3|            A92|   A101|                   1|    A123| 25|             A143|   A151|                1|A173|            1|     A191|          A201|             2|  January|  12|   January|     40|\n",
            "|             A12|            12|           A32|    A43|       1567.0|   A61|                A73|               1|            A92|   A101|                   1|    A123| 22|             A143|   A152|                1|A173|            1|     A192|          A201|             1|  January|  12|   January|     43|\n",
            "|             A12|            24|           A34|    A40|       1199.0|   A61|                A75|               4|            A93|   A101|                   4|    A123| 60|             A143|   A152|                2|A172|            1|     A191|          A201|             2|  January|  12|   January|     40|\n",
            "|             I11|            24|           A32|    A43|       1282.0|   A62|                A73|               4|            A92|   A101|                   2|    A123| 32|             A143|   A152|                1|A172|            1|     A191|          A201|             1|September|  11|   January|     43|\n",
            "|             J14|            24|           A34|    A43|       2424.0|   A65|                A75|               4|            A93|   A101|                   4|    A122| 53|             A143|   A152|                2|A173|            1|     A191|          A201|             1|  October|  14|   January|     43|\n",
            "|             A11|            30|           A30|    A49|       8072.0|   A65|                A72|               2|            A93|   A101|                   3|    A123| 25|             A141|   A152|                3|A173|            1|     A191|          A201|             1|  January|  11|   January|     49|\n",
            "|             A12|            24|           A32|    A41|      12579.0|   A61|                A75|               4|            A92|   A101|                   2|    A124| 44|             A143|   A153|                1|A174|            1|     A192|          A201|             1|  January|  12|   January|     41|\n",
            "|             J12|            24|           A32|    A43|       3430.0|   A63|                A75|               3|            A93|   A101|                   2|    A123| 31|             A143|   A152|                1|A173|            2|     A192|          A201|             1|  October|  12|   January|     43|\n",
            "|             K14|             9|           A34|    A40|       2134.0|   A61|                A73|               4|            A93|   A101|                   4|    A123| 48|             A143|   A152|                3|A173|            1|     A192|          A201|             1| November|  14|   January|     40|\n",
            "|             L11|             6|           A32|    A43|       2647.0|   A63|                A73|               2|            A93|   A101|                   3|    A121| 44|             A143|   A151|                1|A173|            2|     A191|          A201|             1| December|  11|   January|     43|\n",
            "|             A11|            10|           A34|    A40|       2241.0|   A61|                A72|               1|            A93|   A101|                   3|    A121| 48|             A143|   A151|                2|A172|            2|     A191|          A202|             1|  January|  11|   January|     40|\n",
            "+----------------+--------------+--------------+-------+-------------+------+-------------------+----------------+---------------+-------+--------------------+--------+---+-----------------+-------+-----------------+----+-------------+---------+--------------+--------------+---------+----+----------+-------+\n",
            "only showing top 20 rows\n",
            "\n"
          ],
          "name": "stdout"
        }
      ]
    },
    {
      "cell_type": "code",
      "metadata": {
        "id": "uZAcUdqJFXTK"
      },
      "source": [
        "df = df.drop('Purpose')\n",
        "df = df.drop('Existing_account')"
      ],
      "execution_count": 30,
      "outputs": []
    },
    {
      "cell_type": "code",
      "metadata": {
        "id": "VEchZtChFXPk",
        "colab": {
          "base_uri": "https://localhost:8080/"
        },
        "outputId": "07e87399-2e5f-4223-e53d-33230eb5c1e1"
      },
      "source": [
        "df.show()"
      ],
      "execution_count": 31,
      "outputs": [
        {
          "output_type": "stream",
          "text": [
            "+--------------+--------------+-------------+------+-------------------+----------------+---------------+-------+--------------------+--------+---+-----------------+-------+-----------------+----+-------------+---------+--------------+--------------+---------+----+----------+-------+\n",
            "|Duration_month|Credit_history|Credit_amount|Saving|Employment_duration|Installment_rate|Personal_status|Debtors|Residential_Duration|Property|Age|Installment_plans|Housing|Number_of_credits| Job|Liable_People|Telephone|Foreign_worker|Classification|    Month|Days|File_month|Version|\n",
            "+--------------+--------------+-------------+------+-------------------+----------------+---------------+-------+--------------------+--------+---+-----------------+-------+-----------------+----+-------------+---------+--------------+--------------+---------+----+----------+-------+\n",
            "|             6|           A34|       1169.0|   A65|                A75|               4|            A93|   A101|                   4|    A121| 67|             A143|   A152|                2|A173|            1|     A192|          A201|             1| February|  11|   January|     43|\n",
            "|            48|           A32|       5951.0|   A61|                A73|               2|            A92|   A101|                   2|    A121| 22|             A143|   A152|                1|A173|            1|     A191|          A201|             1|     July|  12|   January|     43|\n",
            "|            42|           A32|       7882.0|   A61|                A74|               2|            A93|   A103|                   4|    A122| 45|             A143|   A153|                1|A173|            2|     A191|          A201|             1|    April|  11|   January|     42|\n",
            "|            24|           A33|       4870.0|   A61|                A73|               3|            A93|   A101|                   4|    A124| 53|             A143|   A153|                2|A173|            2|     A191|          A201|             2|      May|  11|   January|     40|\n",
            "|            36|           A32|       9055.0|   A65|                A73|               2|            A93|   A101|                   4|    A124| 35|             A143|   A153|                1|A172|            2|     A192|          A201|             1|  January|  14|   January|     46|\n",
            "|            24|           A32|       2835.0|   A63|                A75|               3|            A93|   A101|                   4|    A122| 53|             A143|   A152|                1|A173|            1|     A191|          A201|             1|  January|  14|   January|     42|\n",
            "|            36|           A32|       6948.0|   A61|                A73|               2|            A93|   A101|                   2|    A123| 35|             A143|   A151|                1|A174|            1|     A192|          A201|             1|     July|  12|   January|     41|\n",
            "|            12|           A32|       3059.0|   A64|                A74|               2|            A91|   A101|                   4|    A121| 61|             A143|   A152|                1|A172|            1|     A191|          A201|             1|  January|  14|   January|     43|\n",
            "|            30|           A34|       5234.0|   A61|                A71|               4|            A94|   A101|                   2|    A123| 28|             A143|   A152|                2|A174|            1|     A191|          A201|             2|     June|  12|   January|     40|\n",
            "|            12|           A32|       1295.0|   A61|                A72|               3|            A92|   A101|                   1|    A123| 25|             A143|   A151|                1|A173|            1|     A191|          A201|             2|  January|  12|   January|     40|\n",
            "|            12|           A32|       1567.0|   A61|                A73|               1|            A92|   A101|                   1|    A123| 22|             A143|   A152|                1|A173|            1|     A192|          A201|             1|  January|  12|   January|     43|\n",
            "|            24|           A34|       1199.0|   A61|                A75|               4|            A93|   A101|                   4|    A123| 60|             A143|   A152|                2|A172|            1|     A191|          A201|             2|  January|  12|   January|     40|\n",
            "|            24|           A32|       1282.0|   A62|                A73|               4|            A92|   A101|                   2|    A123| 32|             A143|   A152|                1|A172|            1|     A191|          A201|             1|September|  11|   January|     43|\n",
            "|            24|           A34|       2424.0|   A65|                A75|               4|            A93|   A101|                   4|    A122| 53|             A143|   A152|                2|A173|            1|     A191|          A201|             1|  October|  14|   January|     43|\n",
            "|            30|           A30|       8072.0|   A65|                A72|               2|            A93|   A101|                   3|    A123| 25|             A141|   A152|                3|A173|            1|     A191|          A201|             1|  January|  11|   January|     49|\n",
            "|            24|           A32|      12579.0|   A61|                A75|               4|            A92|   A101|                   2|    A124| 44|             A143|   A153|                1|A174|            1|     A192|          A201|             1|  January|  12|   January|     41|\n",
            "|            24|           A32|       3430.0|   A63|                A75|               3|            A93|   A101|                   2|    A123| 31|             A143|   A152|                1|A173|            2|     A192|          A201|             1|  October|  12|   January|     43|\n",
            "|             9|           A34|       2134.0|   A61|                A73|               4|            A93|   A101|                   4|    A123| 48|             A143|   A152|                3|A173|            1|     A192|          A201|             1| November|  14|   January|     40|\n",
            "|             6|           A32|       2647.0|   A63|                A73|               2|            A93|   A101|                   3|    A121| 44|             A143|   A151|                1|A173|            2|     A191|          A201|             1| December|  11|   January|     43|\n",
            "|            10|           A34|       2241.0|   A61|                A72|               1|            A93|   A101|                   3|    A121| 48|             A143|   A151|                2|A172|            2|     A191|          A202|             1|  January|  11|   January|     40|\n",
            "+--------------+--------------+-------------+------+-------------------+----------------+---------------+-------+--------------------+--------+---+-----------------+-------+-----------------+----+-------------+---------+--------------+--------------+---------+----+----------+-------+\n",
            "only showing top 20 rows\n",
            "\n"
          ],
          "name": "stdout"
        }
      ]
    },
    {
      "cell_type": "code",
      "metadata": {
        "id": "LPlG9s74FXMy"
      },
      "source": [
        ""
      ],
      "execution_count": null,
      "outputs": []
    },
    {
      "cell_type": "code",
      "metadata": {
        "id": "-nc4ZefjFXKa"
      },
      "source": [
        ""
      ],
      "execution_count": null,
      "outputs": []
    },
    {
      "cell_type": "code",
      "metadata": {
        "id": "_uGLDGH2FXHV"
      },
      "source": [
        ""
      ],
      "execution_count": null,
      "outputs": []
    },
    {
      "cell_type": "code",
      "metadata": {
        "id": "CXNUTwqFFXF0"
      },
      "source": [
        ""
      ],
      "execution_count": null,
      "outputs": []
    },
    {
      "cell_type": "code",
      "metadata": {
        "id": "DZnETrcKFW_U"
      },
      "source": [
        ""
      ],
      "execution_count": null,
      "outputs": []
    },
    {
      "cell_type": "code",
      "metadata": {
        "id": "ex2uB-Lz94xw"
      },
      "source": [
        "#df = spark.read.csv(\"/content/drive/MyDrive/products.csv\", header=True, inferSchema=True)"
      ],
      "execution_count": null,
      "outputs": []
    },
    {
      "cell_type": "code",
      "metadata": {
        "id": "2WieK5l0lq0J",
        "colab": {
          "base_uri": "https://localhost:8080/"
        },
        "outputId": "59e93516-e908-4c10-f1a9-d253a99050bc"
      },
      "source": [
        "mk = sc.parallelize([1,2,3,4])\t\t\n",
        "mk.take(1)\n",
        "squared = mk.map(lambda x: x*x).collect()\n",
        "squared\n",
        "s = mk.count()\n",
        "s"
      ],
      "execution_count": null,
      "outputs": [
        {
          "output_type": "execute_result",
          "data": {
            "text/plain": [
              "4"
            ]
          },
          "metadata": {
            "tags": []
          },
          "execution_count": 5
        }
      ]
    },
    {
      "cell_type": "code",
      "metadata": {
        "id": "0iYa7LJo2sgW"
      },
      "source": [
        "#swimmers = spark.read.json('/content/drive/MyDrive/X_test_small.json')\n",
        "swimmers = spark.read.format(\"json\").load(\"/content/drive/MyDrive/testing.json\")"
      ],
      "execution_count": null,
      "outputs": []
    },
    {
      "cell_type": "code",
      "metadata": {
        "id": "pARs0Vxp3wNO"
      },
      "source": [
        "#df = spark.read.csv(\"/content/drive/MyDrive/products.csv\", header=True, inferSchema=True)"
      ],
      "execution_count": null,
      "outputs": []
    },
    {
      "cell_type": "code",
      "metadata": {
        "id": "E-irTH8G3BTX"
      },
      "source": [
        "swimmers.createOrReplaceTempView(\"swimmers\")"
      ],
      "execution_count": null,
      "outputs": []
    },
    {
      "cell_type": "code",
      "metadata": {
        "colab": {
          "base_uri": "https://localhost:8080/"
        },
        "id": "diShGwiP4fyu",
        "outputId": "e9f5c790-46ae-497f-bc50-79f3d0ebf08d"
      },
      "source": [
        "spark.sql(\"Select * from swimmers\").collect()"
      ],
      "execution_count": null,
      "outputs": [
        {
          "output_type": "execute_result",
          "data": {
            "text/plain": [
              "[Row(City='PARC PARQUE', Country='US', Decommisioned=False, EstimatedPopulation=None, Lat=17.96, Location='NA-US-PR-PARC PARQUE', LocationText='Parc Parque, PR', LocationType='NOT ACCEPTABLE', Long=-66.22, Notes=None, RecordNumber=1, State='PR', TaxReturnsFiled=None, TotalWages=None, WorldRegion='NA', Xaxis=0.38, Yaxis=-0.87, Zaxis=0.3, ZipCodeType='STANDARD', Zipcode=704),\n",
              " Row(City='PASEO COSTA DEL SUR', Country='US', Decommisioned=False, EstimatedPopulation=None, Lat=17.96, Location='NA-US-PR-PASEO COSTA DEL SUR', LocationText='Paseo Costa Del Sur, PR', LocationType='NOT ACCEPTABLE', Long=-66.22, Notes=None, RecordNumber=2, State='PR', TaxReturnsFiled=None, TotalWages=None, WorldRegion='NA', Xaxis=0.38, Yaxis=-0.87, Zaxis=0.3, ZipCodeType='STANDARD', Zipcode=704),\n",
              " Row(City='BDA SAN LUIS', Country='US', Decommisioned=False, EstimatedPopulation=None, Lat=18.14, Location='NA-US-PR-BDA SAN LUIS', LocationText='Bda San Luis, PR', LocationType='NOT ACCEPTABLE', Long=-66.26, Notes=None, RecordNumber=10, State='PR', TaxReturnsFiled=None, TotalWages=None, WorldRegion='NA', Xaxis=0.38, Yaxis=-0.86, Zaxis=0.31, ZipCodeType='STANDARD', Zipcode=709),\n",
              " Row(City='CINGULAR WIRELESS', Country='US', Decommisioned=False, EstimatedPopulation=None, Lat=32.72, Location='NA-US-TX-CINGULAR WIRELESS', LocationText='Cingular Wireless, TX', LocationType='NOT ACCEPTABLE', Long=-97.31, Notes=None, RecordNumber=61391, State='TX', TaxReturnsFiled=None, TotalWages=None, WorldRegion='NA', Xaxis=-0.1, Yaxis=-0.83, Zaxis=0.54, ZipCodeType='UNIQUE', Zipcode=76166),\n",
              " Row(City='FORT WORTH', Country='US', Decommisioned=False, EstimatedPopulation=4053, Lat=32.75, Location='NA-US-TX-FORT WORTH', LocationText='Fort Worth, TX', LocationType='PRIMARY', Long=-97.33, Notes=None, RecordNumber=61392, State='TX', TaxReturnsFiled=2126, TotalWages=122396986, WorldRegion='NA', Xaxis=-0.1, Yaxis=-0.83, Zaxis=0.54, ZipCodeType='STANDARD', Zipcode=76177),\n",
              " Row(City='FT WORTH', Country='US', Decommisioned=False, EstimatedPopulation=4053, Lat=32.75, Location='NA-US-TX-FT WORTH', LocationText='Ft Worth, TX', LocationType='ACCEPTABLE', Long=-97.33, Notes=None, RecordNumber=61393, State='TX', TaxReturnsFiled=2126, TotalWages=122396986, WorldRegion='NA', Xaxis=-0.1, Yaxis=-0.83, Zaxis=0.54, ZipCodeType='STANDARD', Zipcode=76177),\n",
              " Row(City='URB EUGENE RICE', Country='US', Decommisioned=False, EstimatedPopulation=None, Lat=17.96, Location='NA-US-PR-URB EUGENE RICE', LocationText='Urb Eugene Rice, PR', LocationType='NOT ACCEPTABLE', Long=-66.22, Notes=None, RecordNumber=4, State='PR', TaxReturnsFiled=None, TotalWages=None, WorldRegion='NA', Xaxis=0.38, Yaxis=-0.87, Zaxis=0.3, ZipCodeType='STANDARD', Zipcode=704),\n",
              " Row(City='MESA', Country='US', Decommisioned=False, EstimatedPopulation=26883, Lat=33.37, Location='NA-US-AZ-MESA', LocationText='Mesa, AZ', LocationType='PRIMARY', Long=-111.64, Notes='no NWS data, ', RecordNumber=39827, State='AZ', TaxReturnsFiled=14962, TotalWages=563792730, WorldRegion='NA', Xaxis=-0.3, Yaxis=-0.77, Zaxis=0.55, ZipCodeType='STANDARD', Zipcode=85209),\n",
              " Row(City='MESA', Country='US', Decommisioned=False, EstimatedPopulation=25446, Lat=33.38, Location='NA-US-AZ-MESA', LocationText='Mesa, AZ', LocationType='PRIMARY', Long=-111.84, Notes=None, RecordNumber=39828, State='AZ', TaxReturnsFiled=14374, TotalWages=471000465, WorldRegion='NA', Xaxis=-0.31, Yaxis=-0.77, Zaxis=0.55, ZipCodeType='STANDARD', Zipcode=85210),\n",
              " Row(City='HILLIARD', Country='US', Decommisioned=False, EstimatedPopulation=7443, Lat=30.69, Location='NA-US-FL-HILLIARD', LocationText='Hilliard, FL', LocationType='PRIMARY', Long=-81.92, Notes=None, RecordNumber=49345, State='FL', TaxReturnsFiled=3922, TotalWages=133112149, WorldRegion='NA', Xaxis=0.12, Yaxis=-0.85, Zaxis=0.51, ZipCodeType='STANDARD', Zipcode=32046),\n",
              " Row(City='HOLDER', Country='US', Decommisioned=False, EstimatedPopulation=None, Lat=28.96, Location='NA-US-FL-HOLDER', LocationText='Holder, FL', LocationType='PRIMARY', Long=-82.41, Notes=None, RecordNumber=49346, State='FL', TaxReturnsFiled=None, TotalWages=None, WorldRegion='NA', Xaxis=0.11, Yaxis=-0.86, Zaxis=0.48, ZipCodeType='PO BOX', Zipcode=34445),\n",
              " Row(City='HOLT', Country='US', Decommisioned=False, EstimatedPopulation=2190, Lat=30.72, Location='NA-US-FL-HOLT', LocationText='Holt, FL', LocationType='PRIMARY', Long=-86.67, Notes=None, RecordNumber=49347, State='FL', TaxReturnsFiled=1207, TotalWages=36395913, WorldRegion='NA', Xaxis=0.04, Yaxis=-0.85, Zaxis=0.51, ZipCodeType='STANDARD', Zipcode=32564),\n",
              " Row(City='HOMOSASSA', Country='US', Decommisioned=False, EstimatedPopulation=None, Lat=28.78, Location='NA-US-FL-HOMOSASSA', LocationText='Homosassa, FL', LocationType='PRIMARY', Long=-82.61, Notes=None, RecordNumber=49348, State='FL', TaxReturnsFiled=None, TotalWages=None, WorldRegion='NA', Xaxis=0.11, Yaxis=-0.86, Zaxis=0.48, ZipCodeType='PO BOX', Zipcode=34487),\n",
              " Row(City='BDA SAN LUIS', Country='US', Decommisioned=False, EstimatedPopulation=None, Lat=18.14, Location='NA-US-PR-BDA SAN LUIS', LocationText='Bda San Luis, PR', LocationType='NOT ACCEPTABLE', Long=-66.26, Notes=None, RecordNumber=10, State='PR', TaxReturnsFiled=None, TotalWages=None, WorldRegion='NA', Xaxis=0.38, Yaxis=-0.86, Zaxis=0.31, ZipCodeType='STANDARD', Zipcode=708),\n",
              " Row(City='SECT LANAUSSE', Country='US', Decommisioned=False, EstimatedPopulation=None, Lat=17.96, Location='NA-US-PR-SECT LANAUSSE', LocationText='Sect Lanausse, PR', LocationType='NOT ACCEPTABLE', Long=-66.22, Notes=None, RecordNumber=3, State='PR', TaxReturnsFiled=None, TotalWages=None, WorldRegion='NA', Xaxis=0.38, Yaxis=-0.87, Zaxis=0.3, ZipCodeType='STANDARD', Zipcode=704),\n",
              " Row(City='SPRING GARDEN', Country='US', Decommisioned=False, EstimatedPopulation=None, Lat=33.97, Location='NA-US-AL-SPRING GARDEN', LocationText='Spring Garden, AL', LocationType='PRIMARY', Long=-85.55, Notes=None, RecordNumber=54354, State='AL', TaxReturnsFiled=None, TotalWages=None, WorldRegion='NA', Xaxis=0.06, Yaxis=-0.82, Zaxis=0.55, ZipCodeType='PO BOX', Zipcode=36275),\n",
              " Row(City='SPRINGVILLE', Country='US', Decommisioned=False, EstimatedPopulation=7845, Lat=33.77, Location='NA-US-AL-SPRINGVILLE', LocationText='Springville, AL', LocationType='PRIMARY', Long=-86.47, Notes=None, RecordNumber=54355, State='AL', TaxReturnsFiled=4046, TotalWages=172127599, WorldRegion='NA', Xaxis=0.05, Yaxis=-0.82, Zaxis=0.55, ZipCodeType='STANDARD', Zipcode=35146),\n",
              " Row(City='SPRUCE PINE', Country='US', Decommisioned=False, EstimatedPopulation=1209, Lat=34.37, Location='NA-US-AL-SPRUCE PINE', LocationText='Spruce Pine, AL', LocationType='PRIMARY', Long=-87.69, Notes=None, RecordNumber=54356, State='AL', TaxReturnsFiled=610, TotalWages=18525517, WorldRegion='NA', Xaxis=0.03, Yaxis=-0.82, Zaxis=0.56, ZipCodeType='STANDARD', Zipcode=35585),\n",
              " Row(City='ASH HILL', Country='US', Decommisioned=False, EstimatedPopulation=1666, Lat=36.4, Location='NA-US-NC-ASH HILL', LocationText='Ash Hill, NC', LocationType='NOT ACCEPTABLE', Long=-80.56, Notes=None, RecordNumber=76511, State='NC', TaxReturnsFiled=842, TotalWages=28876493, WorldRegion='NA', Xaxis=0.13, Yaxis=-0.79, Zaxis=0.59, ZipCodeType='STANDARD', Zipcode=27007),\n",
              " Row(City='ASHEBORO', Country='US', Decommisioned=False, EstimatedPopulation=15228, Lat=35.71, Location='NA-US-NC-ASHEBORO', LocationText='Asheboro, NC', LocationType='PRIMARY', Long=-79.81, Notes=None, RecordNumber=76512, State='NC', TaxReturnsFiled=8355, TotalWages=215474318, WorldRegion='NA', Xaxis=0.14, Yaxis=-0.79, Zaxis=0.58, ZipCodeType='STANDARD', Zipcode=27203),\n",
              " Row(City='ASHEBORO', Country='US', Decommisioned=False, EstimatedPopulation=1816, Lat=35.71, Location='NA-US-NC-ASHEBORO', LocationText='Asheboro, NC', LocationType='PRIMARY', Long=-79.81, Notes=None, RecordNumber=76513, State='NC', TaxReturnsFiled=1035, TotalWages=30322473, WorldRegion='NA', Xaxis=0.14, Yaxis=-0.79, Zaxis=0.58, ZipCodeType='PO BOX', Zipcode=27204)]"
            ]
          },
          "metadata": {
            "tags": []
          },
          "execution_count": 17
        }
      ]
    },
    {
      "cell_type": "code",
      "metadata": {
        "colab": {
          "base_uri": "https://localhost:8080/"
        },
        "id": "jqORlrJABF6N",
        "outputId": "d73090a0-2178-4e07-fef6-fe837f264f54"
      },
      "source": [
        "swimmers.select('City', 'Country').filter(\"City Like 'A%'\").show()"
      ],
      "execution_count": null,
      "outputs": [
        {
          "output_type": "stream",
          "text": [
            "+--------+-------+\n",
            "|    City|Country|\n",
            "+--------+-------+\n",
            "|ASH HILL|     US|\n",
            "|ASHEBORO|     US|\n",
            "|ASHEBORO|     US|\n",
            "+--------+-------+\n",
            "\n"
          ],
          "name": "stdout"
        }
      ]
    },
    {
      "cell_type": "code",
      "metadata": {
        "colab": {
          "base_uri": "https://localhost:8080/"
        },
        "id": "Oz0Uz8bvD8UW",
        "outputId": "57499753-5e82-4bd2-83c0-868b0d1b1ec1"
      },
      "source": [
        "spark.sql('Select City Country from swimmers where City Like \"A%\"').show()"
      ],
      "execution_count": null,
      "outputs": [
        {
          "output_type": "stream",
          "text": [
            "+--------+\n",
            "| Country|\n",
            "+--------+\n",
            "|ASH HILL|\n",
            "|ASHEBORO|\n",
            "|ASHEBORO|\n",
            "+--------+\n",
            "\n"
          ],
          "name": "stdout"
        }
      ]
    },
    {
      "cell_type": "code",
      "metadata": {
        "id": "5C6v0kqPkxTX"
      },
      "source": [
        "df = spark.createDataFrame([\n",
        "(1, 144.5, 5.9, 33, 'M'),\n",
        "(2, 167.2, 5.4, 45, 'M'),\n",
        "(3, 124.1, 5.2, 23, 'F'),\n",
        "(4, 144.5, 5.9, 33, 'M'),\n",
        "(5, 133.2, 5.7, 54, 'F'),\n",
        "(3, 124.1, 5.2, 23, 'F'),\n",
        "(5, 129.2, 5.3, 42, 'M'),\n",
        "], ['id', 'weight', 'height', 'age', 'gender'])"
      ],
      "execution_count": null,
      "outputs": []
    },
    {
      "cell_type": "code",
      "metadata": {
        "colab": {
          "base_uri": "https://localhost:8080/"
        },
        "id": "AM8GvKZik6qh",
        "outputId": "dcca6c1a-83d0-4aba-d6e3-70b650fa1e7f"
      },
      "source": [
        "df.show()"
      ],
      "execution_count": null,
      "outputs": [
        {
          "output_type": "stream",
          "text": [
            "+---+------+------+---+------+\n",
            "| id|weight|height|age|gender|\n",
            "+---+------+------+---+------+\n",
            "|  1| 144.5|   5.9| 33|     M|\n",
            "|  2| 167.2|   5.4| 45|     M|\n",
            "|  3| 124.1|   5.2| 23|     F|\n",
            "|  4| 144.5|   5.9| 33|     M|\n",
            "|  5| 133.2|   5.7| 54|     F|\n",
            "|  3| 124.1|   5.2| 23|     F|\n",
            "|  5| 129.2|   5.3| 42|     M|\n",
            "+---+------+------+---+------+\n",
            "\n"
          ],
          "name": "stdout"
        }
      ]
    },
    {
      "cell_type": "code",
      "metadata": {
        "id": "bhmImmmFk_UK"
      },
      "source": [
        "df = df.dropDuplicates()"
      ],
      "execution_count": null,
      "outputs": []
    },
    {
      "cell_type": "code",
      "metadata": {
        "id": "qxuHIcq-lAHL",
        "colab": {
          "base_uri": "https://localhost:8080/"
        },
        "outputId": "2d2bd070-721d-49d0-f7df-020729b24454"
      },
      "source": [
        "df.show()"
      ],
      "execution_count": null,
      "outputs": [
        {
          "output_type": "stream",
          "text": [
            "+---+------+------+---+------+\n",
            "| id|weight|height|age|gender|\n",
            "+---+------+------+---+------+\n",
            "|  5| 133.2|   5.7| 54|     F|\n",
            "|  5| 129.2|   5.3| 42|     M|\n",
            "|  1| 144.5|   5.9| 33|     M|\n",
            "|  4| 144.5|   5.9| 33|     M|\n",
            "|  2| 167.2|   5.4| 45|     M|\n",
            "|  3| 124.1|   5.2| 23|     F|\n",
            "+---+------+------+---+------+\n",
            "\n"
          ],
          "name": "stdout"
        }
      ]
    },
    {
      "cell_type": "code",
      "metadata": {
        "id": "Dwf682aqFL9d"
      },
      "source": [
        "airports = spark.read.csv(\"/content/drive/MyDrive/Testing.txt\",header='true',\n",
        "inferSchema='true', sep='\\t')"
      ],
      "execution_count": null,
      "outputs": []
    },
    {
      "cell_type": "code",
      "metadata": {
        "id": "wdm8ZyosOYVr"
      },
      "source": [
        "airports.createOrReplaceTempView(\"Airports\")"
      ],
      "execution_count": null,
      "outputs": []
    },
    {
      "cell_type": "code",
      "metadata": {
        "id": "jwdO-1MoOcam"
      },
      "source": [
        "flightPerf = spark.read.csv(\"/content/drive/MyDrive/Testing2.csv\",header='true')"
      ],
      "execution_count": null,
      "outputs": []
    },
    {
      "cell_type": "code",
      "metadata": {
        "id": "5UiPSMvmPWJq"
      },
      "source": [
        "\n",
        "flightPerf.createOrReplaceTempView(\"FlightPerformance\")"
      ],
      "execution_count": null,
      "outputs": []
    },
    {
      "cell_type": "code",
      "metadata": {
        "colab": {
          "base_uri": "https://localhost:8080/"
        },
        "id": "2EU8D7Dymdx7",
        "outputId": "01f8d620-3ac7-4fb0-e3bb-37ed1f3ff300"
      },
      "source": [
        "flightPerf.show()"
      ],
      "execution_count": null,
      "outputs": [
        {
          "output_type": "stream",
          "text": [
            "+--------+-----+--------+------+-----------+\n",
            "|    date|delay|distance|origin|destination|\n",
            "+--------+-----+--------+------+-----------+\n",
            "|01011245|    6|     602|   ABE|        ATL|\n",
            "|01020600|   -8|     369|   ABE|        DTW|\n",
            "|01021245|   -2|     602|   ABE|        ATL|\n",
            "|01020605|   -4|     602|   ABE|        ATL|\n",
            "|01031245|   -4|     602|   ABE|        ATL|\n",
            "|01030605|    0|     602|   ABE|        ATL|\n",
            "|01041243|   10|     602|   ABE|        ATL|\n",
            "|01040605|   28|     602|   ABE|        ATL|\n",
            "|01051245|   88|     602|   ABE|        ATL|\n",
            "|01050605|    9|     602|   ABE|        ATL|\n",
            "|01061215|   -6|     602|   ABE|        ATL|\n",
            "|01061725|   69|     602|   ABE|        ATL|\n",
            "|01061230|    0|     369|   ABE|        DTW|\n",
            "|01060625|   -3|     602|   ABE|        ATL|\n",
            "|01070600|    0|     369|   ABE|        DTW|\n",
            "|01071725|    0|     602|   ABE|        ATL|\n",
            "|01071230|    0|     369|   ABE|        DTW|\n",
            "|01070625|    0|     602|   ABE|        ATL|\n",
            "|01071219|    0|     569|   ABE|        ORD|\n",
            "|01080600|    0|     369|   ABE|        DTW|\n",
            "+--------+-----+--------+------+-----------+\n",
            "only showing top 20 rows\n",
            "\n"
          ],
          "name": "stdout"
        }
      ]
    },
    {
      "cell_type": "code",
      "metadata": {
        "id": "UxOpP9X4mkY6"
      },
      "source": [
        "#header = flightPerf.first()\n",
        "flightPerf.select('date').rdd.flatMap(list).collect()"
      ],
      "execution_count": null,
      "outputs": []
    },
    {
      "cell_type": "code",
      "metadata": {
        "colab": {
          "base_uri": "https://localhost:8080/"
        },
        "id": "YrBtVkMV3NPJ",
        "outputId": "83332c60-a12d-4285-bc2c-15e0a46f1645"
      },
      "source": [
        "flightPerf.groupBy('distance').count().show()"
      ],
      "execution_count": null,
      "outputs": [
        {
          "output_type": "stream",
          "text": [
            "+--------+-----+\n",
            "|distance|count|\n",
            "+--------+-----+\n",
            "|     296| 1191|\n",
            "|     829| 3898|\n",
            "|     675|  362|\n",
            "|    2069|  335|\n",
            "|    1159|  553|\n",
            "|     691|  337|\n",
            "|    2294|  540|\n",
            "|    1090|    1|\n",
            "|     125| 1595|\n",
            "|     451|  360|\n",
            "|     944|  669|\n",
            "|     800|  444|\n",
            "|    1241| 1192|\n",
            "|     666|  360|\n",
            "|     124|  288|\n",
            "|     447| 2351|\n",
            "|     591| 3383|\n",
            "|    1953| 1834|\n",
            "|     475| 4908|\n",
            "|     574|  407|\n",
            "+--------+-----+\n",
            "only showing top 20 rows\n",
            "\n"
          ],
          "name": "stdout"
        }
      ]
    },
    {
      "cell_type": "code",
      "metadata": {
        "colab": {
          "base_uri": "https://localhost:8080/"
        },
        "id": "bHVIg1rx4D9K",
        "outputId": "c42a7874-5573-4c3c-f1da-262b2702f5f3"
      },
      "source": [
        "titanic_df = spark.read.csv(\"/content/drive/MyDrive/titanic.csv\",header='true')\n",
        "titanic_df.show()"
      ],
      "execution_count": null,
      "outputs": [
        {
          "output_type": "stream",
          "text": [
            "+-----------+--------+------+--------------------+------+----+-----+-----+----------------+-------+-----+--------+\n",
            "|PassengerId|Survived|Pclass|                Name|   Sex| Age|SibSp|Parch|          Ticket|   Fare|Cabin|Embarked|\n",
            "+-----------+--------+------+--------------------+------+----+-----+-----+----------------+-------+-----+--------+\n",
            "|          1|       0|     3|Braund, Mr. Owen ...|  male|  22|    1|    0|       A/5 21171|   7.25| null|       S|\n",
            "|          2|       1|     1|Cumings, Mrs. Joh...|female|  38|    1|    0|        PC 17599|71.2833|  C85|       C|\n",
            "|          3|       1|     3|Heikkinen, Miss. ...|female|  26|    0|    0|STON/O2. 3101282|  7.925| null|       S|\n",
            "|          4|       1|     1|Futrelle, Mrs. Ja...|female|  35|    1|    0|          113803|   53.1| C123|       S|\n",
            "|          5|       0|     3|Allen, Mr. Willia...|  male|  35|    0|    0|          373450|   8.05| null|       S|\n",
            "|          6|       0|     3|    Moran, Mr. James|  male|null|    0|    0|          330877| 8.4583| null|       Q|\n",
            "|          7|       0|     1|McCarthy, Mr. Tim...|  male|  54|    0|    0|           17463|51.8625|  E46|       S|\n",
            "|          8|       0|     3|Palsson, Master. ...|  male|   2|    3|    1|          349909| 21.075| null|       S|\n",
            "|          9|       1|     3|Johnson, Mrs. Osc...|female|  27|    0|    2|          347742|11.1333| null|       S|\n",
            "|         10|       1|     2|Nasser, Mrs. Nich...|female|  14|    1|    0|          237736|30.0708| null|       C|\n",
            "|         11|       1|     3|Sandstrom, Miss. ...|female|   4|    1|    1|         PP 9549|   16.7|   G6|       S|\n",
            "|         12|       1|     1|Bonnell, Miss. El...|female|  58|    0|    0|          113783|  26.55| C103|       S|\n",
            "|         13|       0|     3|Saundercock, Mr. ...|  male|  20|    0|    0|       A/5. 2151|   8.05| null|       S|\n",
            "|         14|       0|     3|Andersson, Mr. An...|  male|  39|    1|    5|          347082| 31.275| null|       S|\n",
            "|         15|       0|     3|Vestrom, Miss. Hu...|female|  14|    0|    0|          350406| 7.8542| null|       S|\n",
            "|         16|       1|     2|Hewlett, Mrs. (Ma...|female|  55|    0|    0|          248706|     16| null|       S|\n",
            "|         17|       0|     3|Rice, Master. Eugene|  male|   2|    4|    1|          382652| 29.125| null|       Q|\n",
            "|         18|       1|     2|Williams, Mr. Cha...|  male|null|    0|    0|          244373|     13| null|       S|\n",
            "|         19|       0|     3|Vander Planke, Mr...|female|  31|    1|    0|          345763|     18| null|       S|\n",
            "|         20|       1|     3|Masselmani, Mrs. ...|female|null|    0|    0|            2649|  7.225| null|       C|\n",
            "+-----------+--------+------+--------------------+------+----+-----+-----+----------------+-------+-----+--------+\n",
            "only showing top 20 rows\n",
            "\n"
          ],
          "name": "stdout"
        }
      ]
    },
    {
      "cell_type": "code",
      "metadata": {
        "colab": {
          "base_uri": "https://localhost:8080/"
        },
        "id": "vGKKdLRp4fng",
        "outputId": "e5c55991-9c18-4341-cef6-8c36b70df271"
      },
      "source": [
        "titanic_df.groupBy('Survived').count().show()"
      ],
      "execution_count": null,
      "outputs": [
        {
          "output_type": "stream",
          "text": [
            "+--------+-----+\n",
            "|Survived|count|\n",
            "+--------+-----+\n",
            "|       0|  549|\n",
            "|       1|  342|\n",
            "+--------+-----+\n",
            "\n"
          ],
          "name": "stdout"
        }
      ]
    },
    {
      "cell_type": "code",
      "metadata": {
        "colab": {
          "base_uri": "https://localhost:8080/"
        },
        "id": "GZswsZq4Nlin",
        "outputId": "a44082e0-8841-43d0-8e39-a7655ea6d2a0"
      },
      "source": [
        "titanic_df.describe('Age').show()"
      ],
      "execution_count": null,
      "outputs": [
        {
          "output_type": "stream",
          "text": [
            "+-------+------------------+\n",
            "|summary|               Age|\n",
            "+-------+------------------+\n",
            "|  count|               714|\n",
            "|   mean| 29.69911764705882|\n",
            "| stddev|14.526497332334035|\n",
            "|    min|              0.42|\n",
            "|    max|                 9|\n",
            "+-------+------------------+\n",
            "\n"
          ],
          "name": "stdout"
        }
      ]
    },
    {
      "cell_type": "code",
      "metadata": {
        "colab": {
          "base_uri": "https://localhost:8080/"
        },
        "id": "BT6bv50lPmW3",
        "outputId": "c00a564b-ad7a-4bc5-8de5-267cd0dd2b4d"
      },
      "source": [
        "titanic_df.filter(titanic_df.Cabin.isNull()).show()"
      ],
      "execution_count": null,
      "outputs": [
        {
          "output_type": "stream",
          "text": [
            "+-----------+--------+------+--------------------+------+----+-----+-----+----------------+-------+-----+--------+\n",
            "|PassengerId|Survived|Pclass|                Name|   Sex| Age|SibSp|Parch|          Ticket|   Fare|Cabin|Embarked|\n",
            "+-----------+--------+------+--------------------+------+----+-----+-----+----------------+-------+-----+--------+\n",
            "|          1|       0|     3|Braund, Mr. Owen ...|  male|  22|    1|    0|       A/5 21171|   7.25| null|       S|\n",
            "|          3|       1|     3|Heikkinen, Miss. ...|female|  26|    0|    0|STON/O2. 3101282|  7.925| null|       S|\n",
            "|          5|       0|     3|Allen, Mr. Willia...|  male|  35|    0|    0|          373450|   8.05| null|       S|\n",
            "|          6|       0|     3|    Moran, Mr. James|  male|null|    0|    0|          330877| 8.4583| null|       Q|\n",
            "|          8|       0|     3|Palsson, Master. ...|  male|   2|    3|    1|          349909| 21.075| null|       S|\n",
            "|          9|       1|     3|Johnson, Mrs. Osc...|female|  27|    0|    2|          347742|11.1333| null|       S|\n",
            "|         10|       1|     2|Nasser, Mrs. Nich...|female|  14|    1|    0|          237736|30.0708| null|       C|\n",
            "|         13|       0|     3|Saundercock, Mr. ...|  male|  20|    0|    0|       A/5. 2151|   8.05| null|       S|\n",
            "|         14|       0|     3|Andersson, Mr. An...|  male|  39|    1|    5|          347082| 31.275| null|       S|\n",
            "|         15|       0|     3|Vestrom, Miss. Hu...|female|  14|    0|    0|          350406| 7.8542| null|       S|\n",
            "|         16|       1|     2|Hewlett, Mrs. (Ma...|female|  55|    0|    0|          248706|     16| null|       S|\n",
            "|         17|       0|     3|Rice, Master. Eugene|  male|   2|    4|    1|          382652| 29.125| null|       Q|\n",
            "|         18|       1|     2|Williams, Mr. Cha...|  male|null|    0|    0|          244373|     13| null|       S|\n",
            "|         19|       0|     3|Vander Planke, Mr...|female|  31|    1|    0|          345763|     18| null|       S|\n",
            "|         20|       1|     3|Masselmani, Mrs. ...|female|null|    0|    0|            2649|  7.225| null|       C|\n",
            "|         21|       0|     2|Fynney, Mr. Joseph J|  male|  35|    0|    0|          239865|     26| null|       S|\n",
            "|         23|       1|     3|\"McGowan, Miss. A...|female|  15|    0|    0|          330923| 8.0292| null|       Q|\n",
            "|         25|       0|     3|Palsson, Miss. To...|female|   8|    3|    1|          349909| 21.075| null|       S|\n",
            "|         26|       1|     3|Asplund, Mrs. Car...|female|  38|    1|    5|          347077|31.3875| null|       S|\n",
            "|         27|       0|     3|Emir, Mr. Farred ...|  male|null|    0|    0|            2631|  7.225| null|       C|\n",
            "+-----------+--------+------+--------------------+------+----+-----+-----+----------------+-------+-----+--------+\n",
            "only showing top 20 rows\n",
            "\n"
          ],
          "name": "stdout"
        }
      ]
    },
    {
      "cell_type": "code",
      "metadata": {
        "colab": {
          "base_uri": "https://localhost:8080/"
        },
        "id": "z3Nj9UClPmUk",
        "outputId": "27b36412-a312-4091-a378-d3e360204381"
      },
      "source": [
        "titanic_df.filter(titanic_df.Cabin.isNull()).count()"
      ],
      "execution_count": null,
      "outputs": [
        {
          "output_type": "execute_result",
          "data": {
            "text/plain": [
              "687"
            ]
          },
          "metadata": {
            "tags": []
          },
          "execution_count": 14
        }
      ]
    },
    {
      "cell_type": "code",
      "metadata": {
        "id": "mhoAue5kPmR6"
      },
      "source": [
        "df = titanic_df.drop(\"Cabin\")"
      ],
      "execution_count": null,
      "outputs": []
    },
    {
      "cell_type": "code",
      "metadata": {
        "colab": {
          "base_uri": "https://localhost:8080/"
        },
        "id": "od3waVKjPiWd",
        "outputId": "5a1fcdde-a5c6-4d3b-b56f-06e6c8d96288"
      },
      "source": [
        "df.show()\n"
      ],
      "execution_count": null,
      "outputs": [
        {
          "output_type": "stream",
          "text": [
            "+-----------+--------+------+--------------------+------+----+-----+-----+----------------+-------+--------+\n",
            "|PassengerId|Survived|Pclass|                Name|   Sex| Age|SibSp|Parch|          Ticket|   Fare|Embarked|\n",
            "+-----------+--------+------+--------------------+------+----+-----+-----+----------------+-------+--------+\n",
            "|          1|       0|     3|Braund, Mr. Owen ...|  male|  22|    1|    0|       A/5 21171|   7.25|       S|\n",
            "|          2|       1|     1|Cumings, Mrs. Joh...|female|  38|    1|    0|        PC 17599|71.2833|       C|\n",
            "|          3|       1|     3|Heikkinen, Miss. ...|female|  26|    0|    0|STON/O2. 3101282|  7.925|       S|\n",
            "|          4|       1|     1|Futrelle, Mrs. Ja...|female|  35|    1|    0|          113803|   53.1|       S|\n",
            "|          5|       0|     3|Allen, Mr. Willia...|  male|  35|    0|    0|          373450|   8.05|       S|\n",
            "|          6|       0|     3|    Moran, Mr. James|  male|null|    0|    0|          330877| 8.4583|       Q|\n",
            "|          7|       0|     1|McCarthy, Mr. Tim...|  male|  54|    0|    0|           17463|51.8625|       S|\n",
            "|          8|       0|     3|Palsson, Master. ...|  male|   2|    3|    1|          349909| 21.075|       S|\n",
            "|          9|       1|     3|Johnson, Mrs. Osc...|female|  27|    0|    2|          347742|11.1333|       S|\n",
            "|         10|       1|     2|Nasser, Mrs. Nich...|female|  14|    1|    0|          237736|30.0708|       C|\n",
            "|         11|       1|     3|Sandstrom, Miss. ...|female|   4|    1|    1|         PP 9549|   16.7|       S|\n",
            "|         12|       1|     1|Bonnell, Miss. El...|female|  58|    0|    0|          113783|  26.55|       S|\n",
            "|         13|       0|     3|Saundercock, Mr. ...|  male|  20|    0|    0|       A/5. 2151|   8.05|       S|\n",
            "|         14|       0|     3|Andersson, Mr. An...|  male|  39|    1|    5|          347082| 31.275|       S|\n",
            "|         15|       0|     3|Vestrom, Miss. Hu...|female|  14|    0|    0|          350406| 7.8542|       S|\n",
            "|         16|       1|     2|Hewlett, Mrs. (Ma...|female|  55|    0|    0|          248706|     16|       S|\n",
            "|         17|       0|     3|Rice, Master. Eugene|  male|   2|    4|    1|          382652| 29.125|       Q|\n",
            "|         18|       1|     2|Williams, Mr. Cha...|  male|null|    0|    0|          244373|     13|       S|\n",
            "|         19|       0|     3|Vander Planke, Mr...|female|  31|    1|    0|          345763|     18|       S|\n",
            "|         20|       1|     3|Masselmani, Mrs. ...|female|null|    0|    0|            2649|  7.225|       C|\n",
            "+-----------+--------+------+--------------------+------+----+-----+-----+----------------+-------+--------+\n",
            "only showing top 20 rows\n",
            "\n"
          ],
          "name": "stdout"
        }
      ]
    },
    {
      "cell_type": "code",
      "metadata": {
        "id": "Qy-T9yXhckle"
      },
      "source": [
        "df_new = df.filter(df.Age.isNotNull()).collect()"
      ],
      "execution_count": null,
      "outputs": []
    },
    {
      "cell_type": "code",
      "metadata": {
        "id": "tlTe8fNGeMOr"
      },
      "source": [
        "df_new = spark.createDataFrame(df_new)"
      ],
      "execution_count": null,
      "outputs": []
    },
    {
      "cell_type": "code",
      "metadata": {
        "colab": {
          "base_uri": "https://localhost:8080/"
        },
        "id": "lnRi9kx0ercK",
        "outputId": "d9d461e7-ca8a-41b4-ca39-790dfe8966a1"
      },
      "source": [
        "df_new.show()"
      ],
      "execution_count": null,
      "outputs": [
        {
          "output_type": "stream",
          "text": [
            "+-----------+--------+------+--------------------+------+---+-----+-----+----------------+-------+--------+\n",
            "|PassengerId|Survived|Pclass|                Name|   Sex|Age|SibSp|Parch|          Ticket|   Fare|Embarked|\n",
            "+-----------+--------+------+--------------------+------+---+-----+-----+----------------+-------+--------+\n",
            "|          1|       0|     3|Braund, Mr. Owen ...|  male| 22|    1|    0|       A/5 21171|   7.25|       S|\n",
            "|          2|       1|     1|Cumings, Mrs. Joh...|female| 38|    1|    0|        PC 17599|71.2833|       C|\n",
            "|          3|       1|     3|Heikkinen, Miss. ...|female| 26|    0|    0|STON/O2. 3101282|  7.925|       S|\n",
            "|          4|       1|     1|Futrelle, Mrs. Ja...|female| 35|    1|    0|          113803|   53.1|       S|\n",
            "|          5|       0|     3|Allen, Mr. Willia...|  male| 35|    0|    0|          373450|   8.05|       S|\n",
            "|          7|       0|     1|McCarthy, Mr. Tim...|  male| 54|    0|    0|           17463|51.8625|       S|\n",
            "|          8|       0|     3|Palsson, Master. ...|  male|  2|    3|    1|          349909| 21.075|       S|\n",
            "|          9|       1|     3|Johnson, Mrs. Osc...|female| 27|    0|    2|          347742|11.1333|       S|\n",
            "|         10|       1|     2|Nasser, Mrs. Nich...|female| 14|    1|    0|          237736|30.0708|       C|\n",
            "|         11|       1|     3|Sandstrom, Miss. ...|female|  4|    1|    1|         PP 9549|   16.7|       S|\n",
            "|         12|       1|     1|Bonnell, Miss. El...|female| 58|    0|    0|          113783|  26.55|       S|\n",
            "|         13|       0|     3|Saundercock, Mr. ...|  male| 20|    0|    0|       A/5. 2151|   8.05|       S|\n",
            "|         14|       0|     3|Andersson, Mr. An...|  male| 39|    1|    5|          347082| 31.275|       S|\n",
            "|         15|       0|     3|Vestrom, Miss. Hu...|female| 14|    0|    0|          350406| 7.8542|       S|\n",
            "|         16|       1|     2|Hewlett, Mrs. (Ma...|female| 55|    0|    0|          248706|     16|       S|\n",
            "|         17|       0|     3|Rice, Master. Eugene|  male|  2|    4|    1|          382652| 29.125|       Q|\n",
            "|         19|       0|     3|Vander Planke, Mr...|female| 31|    1|    0|          345763|     18|       S|\n",
            "|         21|       0|     2|Fynney, Mr. Joseph J|  male| 35|    0|    0|          239865|     26|       S|\n",
            "|         22|       1|     2|Beesley, Mr. Lawr...|  male| 34|    0|    0|          248698|     13|       S|\n",
            "|         23|       1|     3|\"McGowan, Miss. A...|female| 15|    0|    0|          330923| 8.0292|       Q|\n",
            "+-----------+--------+------+--------------------+------+---+-----+-----+----------------+-------+--------+\n",
            "only showing top 20 rows\n",
            "\n"
          ],
          "name": "stdout"
        }
      ]
    },
    {
      "cell_type": "code",
      "metadata": {
        "id": "qlgSTZlEauCf"
      },
      "source": [
        "means = df_new.agg(*[fn.mean(c).alias(c) for c in df_new.columns if c == 'Age']).toPandas().to_dict('records')[0]"
      ],
      "execution_count": null,
      "outputs": []
    },
    {
      "cell_type": "code",
      "metadata": {
        "colab": {
          "base_uri": "https://localhost:8080/"
        },
        "id": "XbGW3mGRbaqg",
        "outputId": "1a27b51c-41c8-4f91-b9bc-5a068532c568"
      },
      "source": [
        "means"
      ],
      "execution_count": null,
      "outputs": [
        {
          "output_type": "execute_result",
          "data": {
            "text/plain": [
              "{'Age': 29.69911764705882}"
            ]
          },
          "metadata": {
            "tags": []
          },
          "execution_count": 21
        }
      ]
    },
    {
      "cell_type": "code",
      "metadata": {
        "id": "ZMX5qsZXPiS7"
      },
      "source": [
        "#df.fillna(value = df.agg({\"Age\": 'mean'}), subset=[\"Age\"])\n",
        "df = df.fillna(value = means, subset=[\"Age\"])"
      ],
      "execution_count": null,
      "outputs": []
    },
    {
      "cell_type": "code",
      "metadata": {
        "colab": {
          "base_uri": "https://localhost:8080/"
        },
        "id": "g8r_rabFPiQQ",
        "outputId": "3d22572e-e9ac-4aef-b02c-ed17385d3cbe"
      },
      "source": [
        "df.show()"
      ],
      "execution_count": null,
      "outputs": [
        {
          "output_type": "stream",
          "text": [
            "+-----------+--------+------+--------------------+------+-----------------+-----+-----+----------------+-------+--------+\n",
            "|PassengerId|Survived|Pclass|                Name|   Sex|              Age|SibSp|Parch|          Ticket|   Fare|Embarked|\n",
            "+-----------+--------+------+--------------------+------+-----------------+-----+-----+----------------+-------+--------+\n",
            "|          1|       0|     3|Braund, Mr. Owen ...|  male|               22|    1|    0|       A/5 21171|   7.25|       S|\n",
            "|          2|       1|     1|Cumings, Mrs. Joh...|female|               38|    1|    0|        PC 17599|71.2833|       C|\n",
            "|          3|       1|     3|Heikkinen, Miss. ...|female|               26|    0|    0|STON/O2. 3101282|  7.925|       S|\n",
            "|          4|       1|     1|Futrelle, Mrs. Ja...|female|               35|    1|    0|          113803|   53.1|       S|\n",
            "|          5|       0|     3|Allen, Mr. Willia...|  male|               35|    0|    0|          373450|   8.05|       S|\n",
            "|          6|       0|     3|    Moran, Mr. James|  male|29.69911764705882|    0|    0|          330877| 8.4583|       Q|\n",
            "|          7|       0|     1|McCarthy, Mr. Tim...|  male|               54|    0|    0|           17463|51.8625|       S|\n",
            "|          8|       0|     3|Palsson, Master. ...|  male|                2|    3|    1|          349909| 21.075|       S|\n",
            "|          9|       1|     3|Johnson, Mrs. Osc...|female|               27|    0|    2|          347742|11.1333|       S|\n",
            "|         10|       1|     2|Nasser, Mrs. Nich...|female|               14|    1|    0|          237736|30.0708|       C|\n",
            "|         11|       1|     3|Sandstrom, Miss. ...|female|                4|    1|    1|         PP 9549|   16.7|       S|\n",
            "|         12|       1|     1|Bonnell, Miss. El...|female|               58|    0|    0|          113783|  26.55|       S|\n",
            "|         13|       0|     3|Saundercock, Mr. ...|  male|               20|    0|    0|       A/5. 2151|   8.05|       S|\n",
            "|         14|       0|     3|Andersson, Mr. An...|  male|               39|    1|    5|          347082| 31.275|       S|\n",
            "|         15|       0|     3|Vestrom, Miss. Hu...|female|               14|    0|    0|          350406| 7.8542|       S|\n",
            "|         16|       1|     2|Hewlett, Mrs. (Ma...|female|               55|    0|    0|          248706|     16|       S|\n",
            "|         17|       0|     3|Rice, Master. Eugene|  male|                2|    4|    1|          382652| 29.125|       Q|\n",
            "|         18|       1|     2|Williams, Mr. Cha...|  male|29.69911764705882|    0|    0|          244373|     13|       S|\n",
            "|         19|       0|     3|Vander Planke, Mr...|female|               31|    1|    0|          345763|     18|       S|\n",
            "|         20|       1|     3|Masselmani, Mrs. ...|female|29.69911764705882|    0|    0|            2649|  7.225|       C|\n",
            "+-----------+--------+------+--------------------+------+-----------------+-----+-----+----------------+-------+--------+\n",
            "only showing top 20 rows\n",
            "\n"
          ],
          "name": "stdout"
        }
      ]
    },
    {
      "cell_type": "code",
      "metadata": {
        "id": "q2zpGG1PPiNw"
      },
      "source": [
        "columns = ['Age','Fare']"
      ],
      "execution_count": null,
      "outputs": []
    },
    {
      "cell_type": "code",
      "metadata": {
        "id": "1rEVhIRDi_Oy"
      },
      "source": [
        "df_new = df_new.withColumn(\"Age\", df_new['Age'].cast('float'))\n",
        "df_new = df_new.withColumn(\"Fare\", df_new['Fare'].cast('float'))"
      ],
      "execution_count": null,
      "outputs": []
    },
    {
      "cell_type": "code",
      "metadata": {
        "colab": {
          "base_uri": "https://localhost:8080/"
        },
        "id": "XhGr_RRGjLl0",
        "outputId": "171fdc5d-6929-4d29-8f8d-eef2fa485363"
      },
      "source": [
        "df_new.show()"
      ],
      "execution_count": null,
      "outputs": [
        {
          "output_type": "stream",
          "text": [
            "+-----------+--------+------+--------------------+------+----+-----+-----+----------------+-------+--------+\n",
            "|PassengerId|Survived|Pclass|                Name|   Sex| Age|SibSp|Parch|          Ticket|   Fare|Embarked|\n",
            "+-----------+--------+------+--------------------+------+----+-----+-----+----------------+-------+--------+\n",
            "|          1|       0|     3|Braund, Mr. Owen ...|  male|22.0|    1|    0|       A/5 21171|   7.25|       S|\n",
            "|          2|       1|     1|Cumings, Mrs. Joh...|female|38.0|    1|    0|        PC 17599|71.2833|       C|\n",
            "|          3|       1|     3|Heikkinen, Miss. ...|female|26.0|    0|    0|STON/O2. 3101282|  7.925|       S|\n",
            "|          4|       1|     1|Futrelle, Mrs. Ja...|female|35.0|    1|    0|          113803|   53.1|       S|\n",
            "|          5|       0|     3|Allen, Mr. Willia...|  male|35.0|    0|    0|          373450|   8.05|       S|\n",
            "|          7|       0|     1|McCarthy, Mr. Tim...|  male|54.0|    0|    0|           17463|51.8625|       S|\n",
            "|          8|       0|     3|Palsson, Master. ...|  male| 2.0|    3|    1|          349909| 21.075|       S|\n",
            "|          9|       1|     3|Johnson, Mrs. Osc...|female|27.0|    0|    2|          347742|11.1333|       S|\n",
            "|         10|       1|     2|Nasser, Mrs. Nich...|female|14.0|    1|    0|          237736|30.0708|       C|\n",
            "|         11|       1|     3|Sandstrom, Miss. ...|female| 4.0|    1|    1|         PP 9549|   16.7|       S|\n",
            "|         12|       1|     1|Bonnell, Miss. El...|female|58.0|    0|    0|          113783|  26.55|       S|\n",
            "|         13|       0|     3|Saundercock, Mr. ...|  male|20.0|    0|    0|       A/5. 2151|   8.05|       S|\n",
            "|         14|       0|     3|Andersson, Mr. An...|  male|39.0|    1|    5|          347082| 31.275|       S|\n",
            "|         15|       0|     3|Vestrom, Miss. Hu...|female|14.0|    0|    0|          350406| 7.8542|       S|\n",
            "|         16|       1|     2|Hewlett, Mrs. (Ma...|female|55.0|    0|    0|          248706|   16.0|       S|\n",
            "|         17|       0|     3|Rice, Master. Eugene|  male| 2.0|    4|    1|          382652| 29.125|       Q|\n",
            "|         19|       0|     3|Vander Planke, Mr...|female|31.0|    1|    0|          345763|   18.0|       S|\n",
            "|         21|       0|     2|Fynney, Mr. Joseph J|  male|35.0|    0|    0|          239865|   26.0|       S|\n",
            "|         22|       1|     2|Beesley, Mr. Lawr...|  male|34.0|    0|    0|          248698|   13.0|       S|\n",
            "|         23|       1|     3|\"McGowan, Miss. A...|female|15.0|    0|    0|          330923| 8.0292|       Q|\n",
            "+-----------+--------+------+--------------------+------+----+-----+-----+----------------+-------+--------+\n",
            "only showing top 20 rows\n",
            "\n"
          ],
          "name": "stdout"
        }
      ]
    },
    {
      "cell_type": "code",
      "metadata": {
        "id": "VuyqfMeYPiLO"
      },
      "source": [
        "bounds = {}\n",
        "for col in columns:\n",
        "  quantile = df_new.approxQuantile(col,[0.50, 0.75], 0.05)\n",
        "  IQR = quantile[1] - quantile [0]\n",
        "  bounds[col] = quantile[0] - 1.5 * IQR, quantile[1] + 1.5 * IQR"
      ],
      "execution_count": null,
      "outputs": []
    },
    {
      "cell_type": "code",
      "metadata": {
        "colab": {
          "base_uri": "https://localhost:8080/"
        },
        "id": "sz8605JLnhoP",
        "outputId": "616acfaa-e141-4c73-fa86-b1b2045ee3a9"
      },
      "source": [
        "bounds"
      ],
      "execution_count": null,
      "outputs": [
        {
          "output_type": "execute_result",
          "data": {
            "text/plain": [
              "{'Age': (16.0, 48.0), 'Fare': (-8.75, 53.25)}"
            ]
          },
          "metadata": {
            "tags": []
          },
          "execution_count": 28
        }
      ]
    },
    {
      "cell_type": "code",
      "metadata": {
        "id": "iFsO9mjiPiIh"
      },
      "source": [
        "df_final = df_new[(df_new['Age'] >= bounds['Age'][0]) & (df_new['Age'] <= bounds['Age'][1]) & (df_new['Fare'] >= bounds['Fare'][0]) & (df_new['Fare'] <= bounds['Fare'][1])]\n"
      ],
      "execution_count": null,
      "outputs": []
    },
    {
      "cell_type": "code",
      "metadata": {
        "id": "j7z2B5teoP1Q",
        "colab": {
          "base_uri": "https://localhost:8080/"
        },
        "outputId": "86faa0be-825a-4e8a-f78d-9e11e7b5dc9a"
      },
      "source": [
        "df_final.count()"
      ],
      "execution_count": null,
      "outputs": [
        {
          "output_type": "execute_result",
          "data": {
            "text/plain": [
              "462"
            ]
          },
          "metadata": {
            "tags": []
          },
          "execution_count": 30
        }
      ]
    },
    {
      "cell_type": "code",
      "metadata": {
        "colab": {
          "base_uri": "https://localhost:8080/"
        },
        "id": "USH53aNZ8jpA",
        "outputId": "1afa0d8e-2d9a-4485-c04f-1c08c78061e2"
      },
      "source": [
        "!pip3 install bokeh"
      ],
      "execution_count": null,
      "outputs": [
        {
          "output_type": "stream",
          "text": [
            "Requirement already satisfied: bokeh in /usr/local/lib/python3.7/dist-packages (2.3.3)\n",
            "Requirement already satisfied: packaging>=16.8 in /usr/local/lib/python3.7/dist-packages (from bokeh) (21.0)\n",
            "Requirement already satisfied: python-dateutil>=2.1 in /usr/local/lib/python3.7/dist-packages (from bokeh) (2.8.1)\n",
            "Requirement already satisfied: PyYAML>=3.10 in /usr/local/lib/python3.7/dist-packages (from bokeh) (3.13)\n",
            "Requirement already satisfied: numpy>=1.11.3 in /usr/local/lib/python3.7/dist-packages (from bokeh) (1.19.5)\n",
            "Requirement already satisfied: typing-extensions>=3.7.4 in /usr/local/lib/python3.7/dist-packages (from bokeh) (3.7.4.3)\n",
            "Requirement already satisfied: pillow>=7.1.0 in /usr/local/lib/python3.7/dist-packages (from bokeh) (7.1.2)\n",
            "Requirement already satisfied: tornado>=5.1 in /usr/local/lib/python3.7/dist-packages (from bokeh) (5.1.1)\n",
            "Requirement already satisfied: Jinja2>=2.9 in /usr/local/lib/python3.7/dist-packages (from bokeh) (2.11.3)\n",
            "Requirement already satisfied: MarkupSafe>=0.23 in /usr/local/lib/python3.7/dist-packages (from Jinja2>=2.9->bokeh) (2.0.1)\n",
            "Requirement already satisfied: pyparsing>=2.0.2 in /usr/local/lib/python3.7/dist-packages (from packaging>=16.8->bokeh) (2.4.7)\n",
            "Requirement already satisfied: six>=1.5 in /usr/local/lib/python3.7/dist-packages (from python-dateutil>=2.1->bokeh) (1.15.0)\n"
          ],
          "name": "stdout"
        }
      ]
    },
    {
      "cell_type": "code",
      "metadata": {
        "id": "8RpiWc2-oPzn"
      },
      "source": [
        "%matplotlib inline\n",
        "import matplotlib.pyplot as plt\n",
        "plt.style.use('ggplot')\n",
        "#import bokeh.plotting as chrt\n",
        "#from bokeh.io import output_notebook\n",
        "#output_notebook()"
      ],
      "execution_count": null,
      "outputs": []
    },
    {
      "cell_type": "code",
      "metadata": {
        "id": "IelHq_QPoPxY"
      },
      "source": [
        ""
      ],
      "execution_count": null,
      "outputs": []
    },
    {
      "cell_type": "code",
      "metadata": {
        "id": "iUw4I3FDoPuP"
      },
      "source": [
        ""
      ],
      "execution_count": null,
      "outputs": []
    },
    {
      "cell_type": "code",
      "metadata": {
        "id": "p3MfTpINoPrk"
      },
      "source": [
        ""
      ],
      "execution_count": null,
      "outputs": []
    },
    {
      "cell_type": "code",
      "metadata": {
        "id": "F_l_A7pXoPqA"
      },
      "source": [
        ""
      ],
      "execution_count": null,
      "outputs": []
    },
    {
      "cell_type": "code",
      "metadata": {
        "id": "_qJeMvJIoPmK"
      },
      "source": [
        ""
      ],
      "execution_count": null,
      "outputs": []
    },
    {
      "cell_type": "code",
      "metadata": {
        "id": "MLmDgp0WoPjh"
      },
      "source": [
        ""
      ],
      "execution_count": null,
      "outputs": []
    },
    {
      "cell_type": "code",
      "metadata": {
        "id": "1We9TA1CoPgu"
      },
      "source": [
        ""
      ],
      "execution_count": null,
      "outputs": []
    },
    {
      "cell_type": "code",
      "metadata": {
        "id": "PYahOpUToPeQ"
      },
      "source": [
        ""
      ],
      "execution_count": null,
      "outputs": []
    },
    {
      "cell_type": "code",
      "metadata": {
        "id": "yRX_f5yDoPbb"
      },
      "source": [
        ""
      ],
      "execution_count": null,
      "outputs": []
    },
    {
      "cell_type": "code",
      "metadata": {
        "id": "fmnM1lNsoPZC"
      },
      "source": [
        ""
      ],
      "execution_count": null,
      "outputs": []
    },
    {
      "cell_type": "code",
      "metadata": {
        "id": "yLFSbcXcoPXB"
      },
      "source": [
        ""
      ],
      "execution_count": null,
      "outputs": []
    },
    {
      "cell_type": "code",
      "metadata": {
        "id": "Ar_8zRHeoPTS"
      },
      "source": [
        ""
      ],
      "execution_count": null,
      "outputs": []
    },
    {
      "cell_type": "code",
      "metadata": {
        "id": "pPhBxjHkoPQi"
      },
      "source": [
        ""
      ],
      "execution_count": null,
      "outputs": []
    },
    {
      "cell_type": "code",
      "metadata": {
        "id": "QuNWdOK4PX7w"
      },
      "source": [
        "spark.sql(\"\"\"\n",
        "Select a.City, \n",
        "f.origin\n",
        "from FlightPerformance f \n",
        "join airports a \n",
        "on  a.IATA = f.origin \n",
        "where  a.State = \"WA\"\n",
        "group by a.City, f.origin \n",
        "\"\"\"\n",
        ").show()"
      ],
      "execution_count": null,
      "outputs": []
    },
    {
      "cell_type": "code",
      "metadata": {
        "colab": {
          "base_uri": "https://localhost:8080/"
        },
        "id": "osy6EjPyPymF",
        "outputId": "adf1a967-1f90-4e9a-88eb-cc6f587941d7"
      },
      "source": [
        "spark.sql(\"\"\"\n",
        "Select f.origin\n",
        "from FlightPerformance  f \n",
        "where f.origin = 'ABE'\n",
        "\"\"\"\n",
        ").show()"
      ],
      "execution_count": null,
      "outputs": [
        {
          "output_type": "stream",
          "text": [
            "+------+\n",
            "|origin|\n",
            "+------+\n",
            "|   ABE|\n",
            "|   ABE|\n",
            "|   ABE|\n",
            "|   ABE|\n",
            "|   ABE|\n",
            "|   ABE|\n",
            "|   ABE|\n",
            "|   ABE|\n",
            "|   ABE|\n",
            "|   ABE|\n",
            "|   ABE|\n",
            "|   ABE|\n",
            "|   ABE|\n",
            "|   ABE|\n",
            "|   ABE|\n",
            "|   ABE|\n",
            "|   ABE|\n",
            "|   ABE|\n",
            "|   ABE|\n",
            "|   ABE|\n",
            "+------+\n",
            "only showing top 20 rows\n",
            "\n"
          ],
          "name": "stdout"
        }
      ]
    },
    {
      "cell_type": "code",
      "metadata": {
        "colab": {
          "base_uri": "https://localhost:8080/",
          "height": 485
        },
        "id": "WPetv5_8Rqtd",
        "outputId": "8f1b9c7a-87c4-49ca-d215-199fc8f8c890"
      },
      "source": [
        "spark.sql(\"\"\"\n",
        "Select IATA\n",
        "from Airports  \n",
        "where IATA = 'ABE'\n",
        "\"\"\"\n",
        ").show()"
      ],
      "execution_count": null,
      "outputs": [
        {
          "output_type": "stream",
          "text": [
            "ERROR:root:An unexpected error occurred while tokenizing input\n",
            "The following traceback may be corrupted or invalid\n",
            "The error message is: ('EOF in multi-line string', (1, 0))\n",
            "\n"
          ],
          "name": "stderr"
        },
        {
          "output_type": "error",
          "ename": "AnalysisException",
          "evalue": "ignored",
          "traceback": [
            "\u001b[0;31m---------------------------------------------------------------------------\u001b[0m",
            "\u001b[0;31mAnalysisException\u001b[0m                         Traceback (most recent call last)",
            "\u001b[0;32m<ipython-input-45-43b162f37a78>\u001b[0m in \u001b[0;36m<module>\u001b[0;34m()\u001b[0m\n\u001b[1;32m      3\u001b[0m \u001b[0;32mfrom\u001b[0m \u001b[0mAirports\u001b[0m\u001b[0;34m\u001b[0m\u001b[0;34m\u001b[0m\u001b[0m\n\u001b[1;32m      4\u001b[0m \u001b[0mwhere\u001b[0m \u001b[0mIATA\u001b[0m \u001b[0;34m=\u001b[0m \u001b[0;34m'ABE'\u001b[0m\u001b[0;34m\u001b[0m\u001b[0;34m\u001b[0m\u001b[0m\n\u001b[0;32m----> 5\u001b[0;31m \"\"\"\n\u001b[0m\u001b[1;32m      6\u001b[0m ).show()\n",
            "\u001b[0;32m/content/spark-3.1.2-bin-hadoop3.2/python/pyspark/sql/session.py\u001b[0m in \u001b[0;36msql\u001b[0;34m(self, sqlQuery)\u001b[0m\n\u001b[1;32m    721\u001b[0m         \u001b[0;34m[\u001b[0m\u001b[0mRow\u001b[0m\u001b[0;34m(\u001b[0m\u001b[0mf1\u001b[0m\u001b[0;34m=\u001b[0m\u001b[0;36m1\u001b[0m\u001b[0;34m,\u001b[0m \u001b[0mf2\u001b[0m\u001b[0;34m=\u001b[0m\u001b[0;34m'row1'\u001b[0m\u001b[0;34m)\u001b[0m\u001b[0;34m,\u001b[0m \u001b[0mRow\u001b[0m\u001b[0;34m(\u001b[0m\u001b[0mf1\u001b[0m\u001b[0;34m=\u001b[0m\u001b[0;36m2\u001b[0m\u001b[0;34m,\u001b[0m \u001b[0mf2\u001b[0m\u001b[0;34m=\u001b[0m\u001b[0;34m'row2'\u001b[0m\u001b[0;34m)\u001b[0m\u001b[0;34m,\u001b[0m \u001b[0mRow\u001b[0m\u001b[0;34m(\u001b[0m\u001b[0mf1\u001b[0m\u001b[0;34m=\u001b[0m\u001b[0;36m3\u001b[0m\u001b[0;34m,\u001b[0m \u001b[0mf2\u001b[0m\u001b[0;34m=\u001b[0m\u001b[0;34m'row3'\u001b[0m\u001b[0;34m)\u001b[0m\u001b[0;34m]\u001b[0m\u001b[0;34m\u001b[0m\u001b[0;34m\u001b[0m\u001b[0m\n\u001b[1;32m    722\u001b[0m         \"\"\"\n\u001b[0;32m--> 723\u001b[0;31m         \u001b[0;32mreturn\u001b[0m \u001b[0mDataFrame\u001b[0m\u001b[0;34m(\u001b[0m\u001b[0mself\u001b[0m\u001b[0;34m.\u001b[0m\u001b[0m_jsparkSession\u001b[0m\u001b[0;34m.\u001b[0m\u001b[0msql\u001b[0m\u001b[0;34m(\u001b[0m\u001b[0msqlQuery\u001b[0m\u001b[0;34m)\u001b[0m\u001b[0;34m,\u001b[0m \u001b[0mself\u001b[0m\u001b[0;34m.\u001b[0m\u001b[0m_wrapped\u001b[0m\u001b[0;34m)\u001b[0m\u001b[0;34m\u001b[0m\u001b[0;34m\u001b[0m\u001b[0m\n\u001b[0m\u001b[1;32m    724\u001b[0m \u001b[0;34m\u001b[0m\u001b[0m\n\u001b[1;32m    725\u001b[0m     \u001b[0;32mdef\u001b[0m \u001b[0mtable\u001b[0m\u001b[0;34m(\u001b[0m\u001b[0mself\u001b[0m\u001b[0;34m,\u001b[0m \u001b[0mtableName\u001b[0m\u001b[0;34m)\u001b[0m\u001b[0;34m:\u001b[0m\u001b[0;34m\u001b[0m\u001b[0;34m\u001b[0m\u001b[0m\n",
            "\u001b[0;32m/content/spark-3.1.2-bin-hadoop3.2/python/lib/py4j-0.10.9-src.zip/py4j/java_gateway.py\u001b[0m in \u001b[0;36m__call__\u001b[0;34m(self, *args)\u001b[0m\n\u001b[1;32m   1303\u001b[0m         \u001b[0manswer\u001b[0m \u001b[0;34m=\u001b[0m \u001b[0mself\u001b[0m\u001b[0;34m.\u001b[0m\u001b[0mgateway_client\u001b[0m\u001b[0;34m.\u001b[0m\u001b[0msend_command\u001b[0m\u001b[0;34m(\u001b[0m\u001b[0mcommand\u001b[0m\u001b[0;34m)\u001b[0m\u001b[0;34m\u001b[0m\u001b[0;34m\u001b[0m\u001b[0m\n\u001b[1;32m   1304\u001b[0m         return_value = get_return_value(\n\u001b[0;32m-> 1305\u001b[0;31m             answer, self.gateway_client, self.target_id, self.name)\n\u001b[0m\u001b[1;32m   1306\u001b[0m \u001b[0;34m\u001b[0m\u001b[0m\n\u001b[1;32m   1307\u001b[0m         \u001b[0;32mfor\u001b[0m \u001b[0mtemp_arg\u001b[0m \u001b[0;32min\u001b[0m \u001b[0mtemp_args\u001b[0m\u001b[0;34m:\u001b[0m\u001b[0;34m\u001b[0m\u001b[0;34m\u001b[0m\u001b[0m\n",
            "\u001b[0;32m/content/spark-3.1.2-bin-hadoop3.2/python/pyspark/sql/utils.py\u001b[0m in \u001b[0;36mdeco\u001b[0;34m(*a, **kw)\u001b[0m\n\u001b[1;32m    115\u001b[0m                 \u001b[0;31m# Hide where the exception came from that shows a non-Pythonic\u001b[0m\u001b[0;34m\u001b[0m\u001b[0;34m\u001b[0m\u001b[0;34m\u001b[0m\u001b[0m\n\u001b[1;32m    116\u001b[0m                 \u001b[0;31m# JVM exception message.\u001b[0m\u001b[0;34m\u001b[0m\u001b[0;34m\u001b[0m\u001b[0;34m\u001b[0m\u001b[0m\n\u001b[0;32m--> 117\u001b[0;31m                 \u001b[0;32mraise\u001b[0m \u001b[0mconverted\u001b[0m \u001b[0;32mfrom\u001b[0m \u001b[0;32mNone\u001b[0m\u001b[0;34m\u001b[0m\u001b[0;34m\u001b[0m\u001b[0m\n\u001b[0m\u001b[1;32m    118\u001b[0m             \u001b[0;32melse\u001b[0m\u001b[0;34m:\u001b[0m\u001b[0;34m\u001b[0m\u001b[0;34m\u001b[0m\u001b[0m\n\u001b[1;32m    119\u001b[0m                 \u001b[0;32mraise\u001b[0m\u001b[0;34m\u001b[0m\u001b[0;34m\u001b[0m\u001b[0m\n",
            "\u001b[0;31mAnalysisException\u001b[0m: Table or view not found: Airports; line 3 pos 5;\n'Project ['IATA]\n+- 'Filter ('IATA = ABE)\n   +- 'UnresolvedRelation [Airports], [], false\n"
          ]
        }
      ]
    },
    {
      "cell_type": "code",
      "metadata": {
        "colab": {
          "base_uri": "https://localhost:8080/"
        },
        "id": "UAW1gVMCSyQu",
        "outputId": "41749851-283d-40ad-9f24-bd2f3d5a9eb8"
      },
      "source": [
        "airports.printSchema()"
      ],
      "execution_count": null,
      "outputs": [
        {
          "output_type": "stream",
          "text": [
            "root\n",
            " |-- City: string (nullable = true)\n",
            " |-- State: string (nullable = true)\n",
            " |-- Country: string (nullable = true)\n",
            " |-- IATA: string (nullable = true)\n",
            "\n"
          ],
          "name": "stdout"
        }
      ]
    },
    {
      "cell_type": "code",
      "metadata": {
        "id": "2PtOk1hyS_xf"
      },
      "source": [
        "%sql\n",
        "Select a.City, f.origin, sum(f.delay) as Delays\n",
        "from FlightPerformance f\n",
        "join airports a\n",
        "on a.IATA = f.origin\n",
        "where a.State = 'WA'\n",
        "group by a.City, f.origin\n",
        "order by sum(f.delay) desc"
      ],
      "execution_count": null,
      "outputs": []
    },
    {
      "cell_type": "code",
      "metadata": {
        "id": "bYDKDYBRgUs-"
      },
      "source": [
        "df_miss = spark.createDataFrame([ (1, 143.5, 5.6, 28,'M', 100000),\n",
        "(2, 167.2, 5.4, 45, 'M', None),\n",
        "(3, None , 5.2, None, None, None),\n",
        "(4, 144.5, 5.9, 33, 'M', None),\n",
        "(5, 133.2, 5.7, 54, 'F', None),\n",
        "(6, 124.1, 5.2, None, 'F', None),\n",
        "(7, 129.2, 5.3, 42, 'M', 76000),\n",
        "], ['id', 'weight', 'height', 'age', 'gender', 'income'])"
      ],
      "execution_count": null,
      "outputs": []
    },
    {
      "cell_type": "code",
      "metadata": {
        "colab": {
          "base_uri": "https://localhost:8080/"
        },
        "id": "_QATjLQNaYF4",
        "outputId": "b4c08d64-5212-4f38-97c8-37eedaaf0d79"
      },
      "source": [
        "df_miss.show()"
      ],
      "execution_count": null,
      "outputs": [
        {
          "output_type": "stream",
          "text": [
            "+---+------+------+----+------+------+\n",
            "| id|weight|height| age|gender|income|\n",
            "+---+------+------+----+------+------+\n",
            "|  1| 143.5|   5.6|  28|     M|100000|\n",
            "|  2| 167.2|   5.4|  45|     M|  null|\n",
            "|  3|  null|   5.2|null|  null|  null|\n",
            "|  4| 144.5|   5.9|  33|     M|  null|\n",
            "|  5| 133.2|   5.7|  54|     F|  null|\n",
            "|  6| 124.1|   5.2|null|     F|  null|\n",
            "|  7| 129.2|   5.3|  42|     M| 76000|\n",
            "+---+------+------+----+------+------+\n",
            "\n"
          ],
          "name": "stdout"
        }
      ]
    },
    {
      "cell_type": "code",
      "metadata": {
        "colab": {
          "base_uri": "https://localhost:8080/"
        },
        "id": "z5xPOT2vaZpn",
        "outputId": "a0ba9641-95ee-4f42-b125-b53d168ffdd1"
      },
      "source": [
        "df_miss.rdd.map(lambda row: (row['id'], sum([c == None for c in row]))).collect()"
      ],
      "execution_count": null,
      "outputs": [
        {
          "output_type": "execute_result",
          "data": {
            "text/plain": [
              "[(1, 0), (2, 1), (3, 4), (4, 1), (5, 1), (6, 2), (7, 0)]"
            ]
          },
          "metadata": {
            "tags": []
          },
          "execution_count": 29
        }
      ]
    },
    {
      "cell_type": "code",
      "metadata": {
        "colab": {
          "base_uri": "https://localhost:8080/"
        },
        "id": "djgvIowvapVJ",
        "outputId": "05178601-be84-43fb-91c4-356a0993b6b9"
      },
      "source": [
        "df_miss.rdd.map(lambda row: (row['id'], sum([c == None for c in row]))).collect()"
      ],
      "execution_count": null,
      "outputs": [
        {
          "output_type": "execute_result",
          "data": {
            "text/plain": [
              "[(1, 0), (2, 1), (3, 4), (4, 1), (5, 1), (6, 2), (7, 0)]"
            ]
          },
          "metadata": {
            "tags": []
          },
          "execution_count": 30
        }
      ]
    },
    {
      "cell_type": "code",
      "metadata": {
        "id": "ykqFbD9Aa9xQ"
      },
      "source": [
        "df_miss.where('id == 3').show()\n",
        "df_miss_no_income = df_miss.select([c for c in df_miss.columns if c != 'income'])\n",
        "df_miss_no_income.dropna(thresh=3).show()\n",
        "import pyspark.sql.types as typ"
      ],
      "execution_count": null,
      "outputs": []
    }
  ]
}